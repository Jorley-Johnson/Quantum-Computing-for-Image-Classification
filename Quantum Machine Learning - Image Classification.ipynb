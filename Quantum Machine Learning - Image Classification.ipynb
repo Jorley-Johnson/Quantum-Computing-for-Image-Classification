{
 "cells": [
  {
   "cell_type": "code",
   "execution_count": 14,
   "id": "a237647d",
   "metadata": {},
   "outputs": [],
   "source": [
    "import pennylane as qml\n",
    "import tensorflow as tf\n",
    "import sklearn.datasets\n",
    "from sklearn.datasets import fetch_openml\n",
    "\n",
    "import numpy as np\n",
    "import pandas as pd\n",
    "\n",
    "from matplotlib import pyplot as plt\n",
    "\n",
    "tf.keras.backend.set_floatx('float64')"
   ]
  },
  {
   "cell_type": "markdown",
   "id": "c0b7fb5d",
   "metadata": {},
   "source": [
    "# Load & Pre-process Data set"
   ]
  },
  {
   "cell_type": "code",
   "execution_count": 67,
   "id": "889d749b",
   "metadata": {},
   "outputs": [
    {
     "name": "stdout",
     "output_type": "stream",
     "text": [
      "Number of original training examples: 60000\n",
      "Number of original test examples: 10000\n"
     ]
    }
   ],
   "source": [
    "(x_train, y_train), (x_test, y_test) = tf.keras.datasets.mnist.load_data()\n",
    "\n",
    "# Rescale the images from [0,255] to the [0.0,1.0] range.\n",
    "x_train, x_test = x_train[..., np.newaxis]/255.0, x_test[..., np.newaxis]/255.0  # add colour dimension\n",
    "\n",
    "print(\"Number of original training examples:\", len(x_train))\n",
    "print(\"Number of original test examples:\", len(x_test))"
   ]
  },
  {
   "cell_type": "code",
   "execution_count": 68,
   "id": "1577a48f",
   "metadata": {},
   "outputs": [],
   "source": [
    "def filter_01(x, y):\n",
    "    keep = (y == 3) | (y == 6)\n",
    "    x, y = x[keep], y[keep]\n",
    "    y = y == 3\n",
    "    return x,y"
   ]
  },
  {
   "cell_type": "code",
   "execution_count": 69,
   "id": "2fb109cb",
   "metadata": {},
   "outputs": [
    {
     "name": "stdout",
     "output_type": "stream",
     "text": [
      "Number of filtered training examples: 12049\n",
      "Number of filtered test examples: 1968\n"
     ]
    }
   ],
   "source": [
    "x_train, y_train = filter_01(x_train, y_train)\n",
    "x_test, y_test = filter_01(x_test, y_test)\n",
    "\n",
    "print(\"Number of filtered training examples:\", len(x_train))\n",
    "print(\"Number of filtered test examples:\", len(x_test))"
   ]
  },
  {
   "cell_type": "code",
   "execution_count": 42,
   "id": "d0855a19",
   "metadata": {},
   "outputs": [
    {
     "data": {
      "image/png": "[encoded data removed]",
      "text/plain": [
       "<Figure size 640x480 with 1 Axes>"
      ]
     },
     "metadata": {},
     "output_type": "display_data"
    }
   ],
   "source": [
    "plt.imshow(x_train[0, :, :, 0], cmap='Greys')\n",
    "ax = plt.gca()\n",
    "ax.set_xticks([])\n",
    "ax.set_yticks([])\n",
    "plt.title(\"28x28 image of a 3\", fontsize=20)\n",
    "# save to file as pdf\n",
    "#plt.savefig('28x28_MNIST_.pdf', bbox_inches='tight', pad_inches=0)\n",
    "plt.show()"
   ]
  },
  {
   "cell_type": "code",
   "execution_count": 43,
   "id": "4dabca2b",
   "metadata": {},
   "outputs": [
    {
     "data": {
      "image/png": "[encoded data removed]",
      "text/plain": [
       "<Figure size 640x480 with 1 Axes>"
      ]
     },
     "metadata": {},
     "output_type": "display_data"
    }
   ],
   "source": [
    "plt.imshow(x_train[878, :, :, :], cmap='Greys')\n",
    "ax = plt.gca()\n",
    "ax.set_xticks([])\n",
    "ax.set_yticks([])\n",
    "plt.title(\"28x28 image of a 6\", fontsize=20)\n",
    "# save to file as pdf\n",
    "#plt.savefig('28x28_MNIST_3.pdf', bbox_inches='tight', pad_inches=0)\n",
    "plt.show()"
   ]
  },
  {
   "cell_type": "markdown",
   "id": "a79e109d",
   "metadata": {},
   "source": [
    "# Define Hinge Accuracy"
   ]
  },
  {
   "cell_type": "code",
   "execution_count": null,
   "id": "7bc4717d",
   "metadata": {},
   "outputs": [],
   "source": [
    "y_train_hinge = 2.0*y_train-1.0\n",
    "y_test_hinge = 2.0*y_test-1.0"
   ]
  },
  {
   "cell_type": "code",
   "execution_count": null,
   "id": "9376c1f6",
   "metadata": {},
   "outputs": [],
   "source": [
    "def hinge_accuracy(y_true, y_pred):\n",
    "    y_true = tf.squeeze(y_true) > 0.0\n",
    "    y_pred = tf.squeeze(y_pred) > 0.0\n",
    "    result = tf.cast(y_true == y_pred, tf.float32)\n",
    "\n",
    "    return tf.reduce_mean(result)"
   ]
  },
  {
   "cell_type": "markdown",
   "id": "98f9711c",
   "metadata": {},
   "source": [
    "# Basis - Different Slices"
   ]
  },
  {
   "cell_type": "markdown",
   "id": "39d7ee3c",
   "metadata": {},
   "source": [
    "## Horizontal Slice"
   ]
  },
  {
   "cell_type": "code",
   "execution_count": 50,
   "id": "9bcb1e01",
   "metadata": {},
   "outputs": [],
   "source": [
    "x_train_9 = tf.image.resize(x_train, (9,9)).numpy()\n",
    "x_test_9 = tf.image.resize(x_test, (9,9)).numpy()"
   ]
  },
  {
   "cell_type": "code",
   "execution_count": 51,
   "id": "97a7a1a0",
   "metadata": {},
   "outputs": [
    {
     "data": {
      "image/png": "[encoded data removed]",
      "text/plain": [
       "<Figure size 640x480 with 1 Axes>"
      ]
     },
     "metadata": {},
     "output_type": "display_data"
    }
   ],
   "source": [
    "x_train_9 = x_train_9[:,4,:,:].reshape((-1,9))  # take only central slices\n",
    "x_test_9 = x_test_9[:,4,:,:].reshape((-1,9))  # take only central slices\n",
    "\n",
    "plt.imshow(x_train_9[0,:].reshape((1,-1)), vmin=0, vmax=1, cmap='Greys')\n",
    "ax = plt.gca()\n",
    "ax.set_xticks([])\n",
    "ax.set_yticks([])\n",
    "plt.title(\"9x1 image of a 0\", fontsize=20)\n",
    "# save to file as pdf\n",
    "plt.savefig('9x1_MNIST_0.pdf', bbox_inches='tight', pad_inches=0)\n",
    "plt.show()"
   ]
  },
  {
   "cell_type": "code",
   "execution_count": null,
   "id": "e6c3b71b",
   "metadata": {},
   "outputs": [],
   "source": [
    "n_qubits = 9\n",
    "n_layers = 1\n",
    "dev = qml.device(\"default.qubit\", wires=n_qubits)\n",
    "\n",
    "@qml.qnode(dev, diff_method=\"adjoint\")\n",
    "def qnode(inputs, weights):\n",
    "\n",
    "    for ii in range(n_qubits):\n",
    "        qml.RY(np.pi * inputs[ii], wires=ii)\n",
    "\n",
    "    for jj in range(n_layers):\n",
    "        for ii in range(n_qubits-1):\n",
    "            qml.RZ(weights[jj,2*ii,0], wires=0)\n",
    "            qml.RY(weights[jj,2*ii,1], wires=0)\n",
    "            qml.RZ(weights[jj,2*ii,2], wires=0)\n",
    "\n",
    "            qml.RZ(weights[jj,2*ii+1,0], wires=ii+1)\n",
    "            qml.RY(weights[jj,2*ii+1,1], wires=ii+1)\n",
    "            qml.RZ(weights[jj,2*ii+1,2], wires=ii+1)\n",
    "\n",
    "            #qml.U3(*list(weights[jj,2*ii,:]), wires=0)\n",
    "            #qml.U3(*list(weights[jj,2*ii+1,:]), wires=ii+1)\n",
    "            qml.CNOT(wires=[ii+1,0])\n",
    "            \n",
    "        qml.RZ(weights[jj,2*(n_qubits-1),0], wires=0)\n",
    "        qml.RY(weights[jj,2*(n_qubits-1),1], wires=0)\n",
    "        qml.RZ(weights[jj,2*(n_qubits-1),2], wires=0)\n",
    "\n",
    "    return qml.expval(qml.PauliZ(0))\n",
    "\n",
    "weight_shapes = {\"weights\": (n_layers, 2*(n_qubits-1)+1, 3) }\n",
    "\n",
    "\n",
    "qlayer = qml.qnn.KerasLayer(qnode, weight_shapes, output_dim=1, name=\"quantumLayer\")\n",
    "inputs = tf.keras.Input(shape=(n_qubits,), name=\"inputs\")\n",
    "outputs = qlayer(inputs)\n",
    "model_hor = tf.keras.Model(inputs=inputs, outputs=outputs, name=\"QNN\")\n",
    "\n",
    "model_hor.predict(x_train_9[0,:])\n",
    "print(model_hor.summary())"
   ]
  },
  {
   "cell_type": "code",
   "execution_count": null,
   "id": "5cfc38de",
   "metadata": {},
   "outputs": [],
   "source": [
    "model_hor.compile(\n",
    "    loss=tf.keras.losses.Hinge(),\n",
    "    optimizer=tf.keras.optimizers.Adam(),\n",
    "    metrics=[hinge_accuracy])"
   ]
  },
  {
   "cell_type": "code",
   "execution_count": null,
   "id": "1d7d4a68",
   "metadata": {},
   "outputs": [],
   "source": [
    "EPOCHS = 20\n",
    "BATCH_SIZE = 32\n",
    "\n",
    "NUM_EXAMPLES = 512 #x_train_9.shape[0]\n",
    "print(NUM_EXAMPLES)\n",
    "\n",
    "x_train_sub = x_train_9\n",
    "[:NUM_EXAMPLES,:]\n",
    "y_train_hinge_sub = y_train_hinge[:NUM_EXAMPLES]\n",
    "\n",
    "x_test_sub = x_test_9[:,:]\n",
    "y_test_sub = y_test[:]\n",
    "\n",
    "csv_logger = CSVLogger('Horizontal slice.log')\n",
    "\n",
    "qnn_history_hor = model_hor.fit(\n",
    "      x_train_sub, y_train_hinge_sub, callbacks=[csv_logger],\n",
    "      batch_size=BATCH_SIZE,\n",
    "      epochs=EPOCHS,\n",
    "      verbose=1)#,\n",
    "      #validation_data=(x_test_sub, y_test_sub))\n",
    "\n",
    "qnn_history_hor = model_hor.evaluate(x_test_sub, y_test_sub)"
   ]
  },
  {
   "cell_type": "code",
   "execution_count": null,
   "id": "42fc6629",
   "metadata": {},
   "outputs": [],
   "source": [
    "model_hor.save('Horizontal slice.h5')"
   ]
  },
  {
   "cell_type": "markdown",
   "id": "87ea8214",
   "metadata": {},
   "source": [
    "### Plot"
   ]
  },
  {
   "cell_type": "code",
   "execution_count": null,
   "id": "f0082efd",
   "metadata": {},
   "outputs": [],
   "source": [
    "plt.plot(np.arange(1,21), qnn_history_hor.history[\"hinge_accuracy\"], label=\"accuracy\")\n",
    "plt.plot(np.arange(1,21), qnn_history_hor.history[\"loss\"], label=\"loss\")\n",
    "plt.xlabel(\"Epoch\")\n",
    "plt.ylabel(\"Hinge Accuracy\")\n",
    "plt.legend()\n",
    "# modify x_ticks to also include 20\n",
    "plt.xticks(np.arange(0, 21, 2.5))\n",
    "# save as pdf with tight layout and no padding\n",
    "plt.savefig(\"Horizontal Slice.pdf\", bbox_inches=\"tight\", pad_inches=0)\n",
    "plt.show()"
   ]
  },
  {
   "cell_type": "markdown",
   "id": "18563ed2",
   "metadata": {},
   "source": [
    "## Vertical Slice"
   ]
  },
  {
   "cell_type": "code",
   "execution_count": 11,
   "id": "df08794a",
   "metadata": {},
   "outputs": [],
   "source": [
    "x_train_ver_9 = tf.image.resize(x_train, (9,9)).numpy()\n",
    "x_test_ver_9 = tf.image.resize(x_test, (9,9)).numpy()"
   ]
  },
  {
   "cell_type": "code",
   "execution_count": 12,
   "id": "26503a7f",
   "metadata": {},
   "outputs": [
    {
     "data": {
      "image/png": "[encoded data removed]",
      "text/plain": [
       "<Figure size 640x480 with 1 Axes>"
      ]
     },
     "metadata": {},
     "output_type": "display_data"
    }
   ],
   "source": [
    "x_train_ver_9 = x_train_ver_9[:,:,4,:].reshape((-1,9))  # take only central slices\n",
    "x_test_ver_9 = x_test_ver_9[:,:,4,:].reshape((-1,9))  # take only central slices\n",
    "\n",
    "plt.imshow(x_train_ver_9[0,:].reshape((1,-1)), vmin=0, vmax=1, cmap='Greys')\n",
    "ax = plt.gca()\n",
    "ax.set_xticks([])\n",
    "ax.set_yticks([])\n",
    "plt.title(\"9x1 image of a 0\", fontsize=20)\n",
    "# save to file as pdf\n",
    "plt.savefig('vertical slice.pdf', bbox_inches='tight', pad_inches=0)\n",
    "plt.show()"
   ]
  },
  {
   "cell_type": "code",
   "execution_count": null,
   "id": "4314e4f6",
   "metadata": {},
   "outputs": [],
   "source": [
    "n_qubits = 9\n",
    "n_layers = 1\n",
    "dev = qml.device(\"default.qubit\", wires=n_qubits)\n",
    "\n",
    "@qml.qnode(dev, diff_method=\"adjoint\")\n",
    "def qnode(inputs, weights):\n",
    "\n",
    "    for ii in range(n_qubits):\n",
    "        qml.RY(np.pi * inputs[ii], wires=ii)\n",
    "\n",
    "    for jj in range(n_layers):\n",
    "        for ii in range(n_qubits-1):\n",
    "            qml.RZ(weights[jj,2*ii,0], wires=0)\n",
    "            qml.RY(weights[jj,2*ii,1], wires=0)\n",
    "            qml.RZ(weights[jj,2*ii,2], wires=0)\n",
    "\n",
    "            qml.RZ(weights[jj,2*ii+1,0], wires=ii+1)\n",
    "            qml.RY(weights[jj,2*ii+1,1], wires=ii+1)\n",
    "            qml.RZ(weights[jj,2*ii+1,2], wires=ii+1)\n",
    "\n",
    "            #qml.U3(*list(weights[jj,2*ii,:]), wires=0)\n",
    "            #qml.U3(*list(weights[jj,2*ii+1,:]), wires=ii+1)\n",
    "            qml.CNOT(wires=[ii+1,0])\n",
    "            \n",
    "        qml.RZ(weights[jj,2*(n_qubits-1),0], wires=0)\n",
    "        qml.RY(weights[jj,2*(n_qubits-1),1], wires=0)\n",
    "        qml.RZ(weights[jj,2*(n_qubits-1),2], wires=0)\n",
    "\n",
    "    return qml.expval(qml.PauliZ(0))\n",
    "\n",
    "weight_shapes = {\"weights\": (n_layers, 2*(n_qubits-1)+1, 3) }\n",
    "\n",
    "\n",
    "qlayer = qml.qnn.KerasLayer(qnode, weight_shapes, output_dim=1, name=\"quantumLayer\")\n",
    "inputs = tf.keras.Input(shape=(n_qubits,), name=\"inputs\")\n",
    "outputs = qlayer(inputs)\n",
    "model_ver = tf.keras.Model(inputs=inputs, outputs=outputs, name=\"QNN\")\n",
    "\n",
    "model_ver.predict(x_train_ver_9[0,:])\n",
    "print(model_ver.summary())"
   ]
  },
  {
   "cell_type": "code",
   "execution_count": null,
   "id": "6da128e7",
   "metadata": {},
   "outputs": [],
   "source": [
    "model_ver.compile(\n",
    "    loss=tf.keras.losses.Hinge(),\n",
    "    optimizer=tf.keras.optimizers.Adam(),\n",
    "    metrics=[hinge_accuracy])"
   ]
  },
  {
   "cell_type": "code",
   "execution_count": null,
   "id": "2a46efa7",
   "metadata": {},
   "outputs": [],
   "source": [
    "EPOCHS = 20\n",
    "BATCH_SIZE = 32\n",
    "\n",
    "NUM_EXAMPLES = 512 #x_train_ver_9.shape[0]\n",
    "print(NUM_EXAMPLES)\n",
    "\n",
    "x_train_sub = x_train_ver_9[:NUM_EXAMPLES,:]\n",
    "y_train_hinge_sub = y_train_hinge[:NUM_EXAMPLES]\n",
    "\n",
    "x_test_sub = x_test_ver_9[:,:]\n",
    "y_test_sub = y_test[:]\n",
    "\n",
    "csv_logger = CSVLogger('Vertical slice.log')\n",
    "\n",
    "qnn_history_ver = model_ver.fit(\n",
    "      x_train_sub, y_train_hinge_sub, callbacks=[csv_logger],\n",
    "      batch_size=BATCH_SIZE,\n",
    "      epochs=EPOCHS,\n",
    "      verbose=1)#,\n",
    "      #validation_data=(x_test_sub, y_test_sub))\n",
    "\n",
    "qnn_history_ver = model_ver.evaluate(x_test_sub, y_test_sub)"
   ]
  },
  {
   "cell_type": "code",
   "execution_count": null,
   "id": "08a9f851",
   "metadata": {},
   "outputs": [],
   "source": [
    "model_ver.save('Vertical slice.h5')"
   ]
  },
  {
   "cell_type": "markdown",
   "id": "d2aaf23b",
   "metadata": {},
   "source": [
    "### Plot"
   ]
  },
  {
   "cell_type": "code",
   "execution_count": null,
   "id": "0dfdf797",
   "metadata": {},
   "outputs": [],
   "source": [
    "plt.plot(np.arange(1,21), qnn_history_ver.history[\"hinge_accuracy\"], label=\"accuracy\")\n",
    "plt.plot(np.arange(1,21), qnn_history_ver.history[\"loss\"], label=\"loss\")\n",
    "plt.xlabel(\"Epoch\")\n",
    "plt.ylabel(\"Hinge Accuracy\")\n",
    "plt.legend()\n",
    "# modify x_ticks to also include 20\n",
    "plt.xticks(np.arange(0, 21, 2.5))\n",
    "# save as pdf with tight layout and no padding\n",
    "plt.savefig(\"Vertical Slice.pdf\", bbox_inches=\"tight\", pad_inches=0)\n",
    "plt.show()"
   ]
  },
  {
   "cell_type": "markdown",
   "id": "a515670e",
   "metadata": {},
   "source": [
    "## 3x3 image"
   ]
  },
  {
   "cell_type": "code",
   "execution_count": 75,
   "id": "9d23a51b",
   "metadata": {},
   "outputs": [],
   "source": [
    "x_train_3x3 = tf.image.resize(x_train, (3,3)).numpy()\n",
    "x_train_3x3 = tf.image.resize(x_test, (3,3)).numpy()"
   ]
  },
  {
   "cell_type": "code",
   "execution_count": 76,
   "id": "33cfbfd8",
   "metadata": {},
   "outputs": [
    {
     "data": {
      "image/png": "[encoded data removed]",
      "text/plain": [
       "<Figure size 640x480 with 1 Axes>"
      ]
     },
     "metadata": {},
     "output_type": "display_data"
    }
   ],
   "source": [
    "plt.imshow(x_train_3x3[878,:,:,0], vmin=0, vmax=1, cmap='Greys')\n",
    "ax = plt.gca()\n",
    "ax.set_xticks([])\n",
    "ax.set_yticks([])\n",
    "plt.title(\"3x3 image of a 3\", fontsize=20)\n",
    "# save to file as pdf\n",
    "#plt.savefig('9x9_MNIST_0.pdf', bbox_inches='tight', pad_inches=0)\n",
    "plt.show()"
   ]
  },
  {
   "cell_type": "code",
   "execution_count": 77,
   "id": "4dfb4830",
   "metadata": {},
   "outputs": [
    {
     "data": {
      "image/png": "[encoded data removed]",
      "text/plain": [
       "<Figure size 640x480 with 1 Axes>"
      ]
     },
     "metadata": {},
     "output_type": "display_data"
    }
   ],
   "source": [
    "x_train_3x3 = x_train_3x3[:].reshape((-1,9))  # take only central slices\n",
    "x_train_3x3 = x_train_3x3[:].reshape((-1,9))  # take only central slices\n",
    "\n",
    "plt.imshow(x_train_3x3[0,:].reshape((1,-1)), vmin=0, vmax=1, cmap='Greys')\n",
    "ax = plt.gca()\n",
    "ax.set_xticks([])\n",
    "ax.set_yticks([])\n",
    "plt.title(\"9x1 image of a 0\", fontsize=20)\n",
    "#save to file as pdf\n",
    "#plt.savefig('9x1_MNIST_0.pdf', bbox_inches='tight', pad_inches=0)\n",
    "plt.show()"
   ]
  },
  {
   "cell_type": "code",
   "execution_count": null,
   "id": "d69a5a91",
   "metadata": {},
   "outputs": [],
   "source": [
    "n_qubits = 9\n",
    "n_layers = 1\n",
    "dev = qml.device(\"default.qubit\", wires=n_qubits)\n",
    "\n",
    "@qml.qnode(dev, diff_method=\"adjoint\")\n",
    "def qnode(inputs, weights):\n",
    "\n",
    "    for ii in range(n_qubits):\n",
    "        qml.RY(np.pi * inputs[ii], wires=ii)\n",
    "\n",
    "    for jj in range(n_layers):\n",
    "        for ii in range(n_qubits-1):\n",
    "            qml.RZ(weights[jj,2*ii,0], wires=0)\n",
    "            qml.RY(weights[jj,2*ii,1], wires=0)\n",
    "            qml.RZ(weights[jj,2*ii,2], wires=0)\n",
    "\n",
    "            qml.RZ(weights[jj,2*ii+1,0], wires=ii+1)\n",
    "            qml.RY(weights[jj,2*ii+1,1], wires=ii+1)\n",
    "            qml.RZ(weights[jj,2*ii+1,2], wires=ii+1)\n",
    "\n",
    "            #qml.U3(*list(weights[jj,2*ii,:]), wires=0)\n",
    "            #qml.U3(*list(weights[jj,2*ii+1,:]), wires=ii+1)\n",
    "            qml.CNOT(wires=[ii+1,0])\n",
    "            \n",
    "        qml.RZ(weights[jj,2*(n_qubits-1),0], wires=0)\n",
    "        qml.RY(weights[jj,2*(n_qubits-1),1], wires=0)\n",
    "        qml.RZ(weights[jj,2*(n_qubits-1),2], wires=0)\n",
    "\n",
    "    return qml.expval(qml.PauliZ(0))\n",
    "\n",
    "weight_shapes = {\"weights\": (n_layers, 2*(n_qubits-1)+1, 3) }\n",
    "\n",
    "\n",
    "qlayer = qml.qnn.KerasLayer(qnode, weight_shapes, output_dim=1, name=\"quantumLayer\")\n",
    "inputs = tf.keras.Input(shape=(n_qubits,), name=\"inputs\")\n",
    "outputs = qlayer(inputs)\n",
    "model_3x3 = tf.keras.Model(inputs=inputs, outputs=outputs, name=\"QNN\")\n",
    "\n",
    "model_3x3.predict(x_train_3x3[0,:])\n",
    "print(model_3x3.summary())"
   ]
  },
  {
   "cell_type": "code",
   "execution_count": null,
   "id": "9ed4d7e2",
   "metadata": {},
   "outputs": [],
   "source": [
    "EPOCHS = 20\n",
    "BATCH_SIZE = 32\n",
    "\n",
    "NUM_EXAMPLES = 512 #x_train_3x3.shape[0]\n",
    "print(NUM_EXAMPLES)\n",
    "\n",
    "x_train_sub = x_train_s3x3[:NUM_EXAMPLES,:]\n",
    "y_train_hinge_sub = y_train_hinge[:NUM_EXAMPLES]\n",
    "\n",
    "x_test_sub = x_test_3x3[:,:]\n",
    "y_test_sub = y_test[:]\n",
    "\n",
    "csv_logger = CSVLogger('3x3 slice.log')\n",
    "\n",
    "qnn_history_3x3 = model_3x3.fit(\n",
    "      x_train_sub, y_train_hinge_sub, callbacks=[csv_logger],\n",
    "      batch_size=BATCH_SIZE,\n",
    "      epochs=EPOCHS,\n",
    "      verbose=1)#,\n",
    "      #validation_data=(x_test_sub, y_test_sub))\n",
    "\n",
    "qnn_history_3x3 = model_3x3.evaluate(x_test_sub, y_test_sub)"
   ]
  },
  {
   "cell_type": "code",
   "execution_count": null,
   "id": "743bc976",
   "metadata": {},
   "outputs": [],
   "source": [
    "model_3x3.save('3x3.h5')"
   ]
  },
  {
   "cell_type": "markdown",
   "id": "6e5f8a9b",
   "metadata": {},
   "source": [
    "### Plot"
   ]
  },
  {
   "cell_type": "code",
   "execution_count": null,
   "id": "64d5a1d3",
   "metadata": {},
   "outputs": [],
   "source": [
    "plt.plot(np.arange(1,21), qnn_history_3x3.history[\"hinge_accuracy\"], label=\"accuracy\")\n",
    "plt.plot(np.arange(1,21), qnn_history_3x3.history[\"loss\"], label=\"loss\")\n",
    "plt.xlabel(\"Epoch\")\n",
    "plt.ylabel(\"Hinge Accuracy\")\n",
    "plt.legend()\n",
    "# modify x_ticks to also include 20\n",
    "plt.xticks(np.arange(0, 21, 2.5))\n",
    "# save as pdf with tight layout and no padding\n",
    "plt.savefig(\"3x3.pdf\", bbox_inches=\"tight\", pad_inches=0)\n",
    "plt.show()"
   ]
  },
  {
   "cell_type": "markdown",
   "id": "67812f96",
   "metadata": {},
   "source": [
    "# Encoding Methods"
   ]
  },
  {
   "cell_type": "markdown",
   "id": "10aafc57",
   "metadata": {},
   "source": [
    "## 1 - Layer"
   ]
  },
  {
   "cell_type": "markdown",
   "id": "0cdc078a",
   "metadata": {},
   "source": [
    "### Basis"
   ]
  },
  {
   "cell_type": "code",
   "execution_count": null,
   "id": "6a36b8f4",
   "metadata": {},
   "outputs": [],
   "source": [
    "n_qubits = 9\n",
    "n_layers = 1\n",
    "dev = qml.device(\"default.qubit\", wires=n_qubits)\n",
    "\n",
    "@qml.qnode(dev, diff_method=\"adjoint\")\n",
    "def qnode(inputs, weights):\n",
    "\n",
    "    for ii in range(n_qubits):\n",
    "        qml.RY(np.pi * inputs[ii], wires=ii)\n",
    "\n",
    "    for jj in range(n_layers):\n",
    "        for ii in range(n_qubits-1):\n",
    "            qml.RZ(weights[jj,2*ii,0], wires=0)\n",
    "            qml.RY(weights[jj,2*ii,1], wires=0)\n",
    "            qml.RZ(weights[jj,2*ii,2], wires=0)\n",
    "\n",
    "            qml.RZ(weights[jj,2*ii+1,0], wires=ii+1)\n",
    "            qml.RY(weights[jj,2*ii+1,1], wires=ii+1)\n",
    "            qml.RZ(weights[jj,2*ii+1,2], wires=ii+1)\n",
    "\n",
    "            #qml.U3(*list(weights[jj,2*ii,:]), wires=0)\n",
    "            #qml.U3(*list(weights[jj,2*ii+1,:]), wires=ii+1)\n",
    "            qml.CNOT(wires=[ii+1,0])\n",
    "            \n",
    "        qml.RZ(weights[jj,2*(n_qubits-1),0], wires=0)\n",
    "        qml.RY(weights[jj,2*(n_qubits-1),1], wires=0)\n",
    "        qml.RZ(weights[jj,2*(n_qubits-1),2], wires=0)\n",
    "\n",
    "    return qml.expval(qml.PauliZ(0))\n",
    "\n",
    "weight_shapes = {\"weights\": (n_layers, 2*(n_qubits-1)+1, 3) }\n",
    "\n",
    "\n",
    "qlayer = qml.qnn.KerasLayer(qnode, weight_shapes, output_dim=1, name=\"quantumLayer\")\n",
    "inputs = tf.keras.Input(shape=(n_qubits,), name=\"inputs\")\n",
    "outputs = qlayer(inputs)\n",
    "model_basis = tf.keras.Model(inputs=inputs, outputs=outputs, name=\"QNN\")\n",
    "\n",
    "model_basis.predict(x_train_9[0,:])\n",
    "print(model_basis.summary())"
   ]
  },
  {
   "cell_type": "code",
   "execution_count": null,
   "id": "49b01855",
   "metadata": {},
   "outputs": [],
   "source": [
    "model_basis.compile(\n",
    "    loss=tf.keras.losses.Hinge(),\n",
    "    optimizer=tf.keras.optimizers.Adam(),\n",
    "    metrics=[hinge_accuracy])"
   ]
  },
  {
   "cell_type": "code",
   "execution_count": null,
   "id": "bbd3eaf7",
   "metadata": {},
   "outputs": [],
   "source": [
    "EPOCHS = 40\n",
    "BATCH_SIZE = 32\n",
    "\n",
    "NUM_EXAMPLES = 512 #x_train_9.shape[0]\n",
    "print(NUM_EXAMPLES)\n",
    "\n",
    "x_train_sub = x_train_9[:NUM_EXAMPLES,:]\n",
    "y_train_hinge_sub = y_train_hinge[:NUM_EXAMPLES]\n",
    "\n",
    "x_test_sub = x_test_9[:,:]\n",
    "y_test_sub = y_test[:]\n",
    "\n",
    "csv_logger = CSVLogger('qnn_history_basis_1layer.log')\n",
    "\n",
    "\n",
    "qnn_history_basis_1layer = model_basis.fit(\n",
    "      x_train_sub, y_train_hinge_sub, callbacks=[csv_logger],\n",
    "      batch_size=BATCH_SIZE,\n",
    "      epochs=EPOCHS,\n",
    "      verbose=1)#,\n",
    "      #validation_data=(x_test_sub, y_test_sub))\n",
    "\n",
    "qnn_results_basis_1layer = model_basis.evaluate(x_test_sub, y_test_sub)"
   ]
  },
  {
   "cell_type": "code",
   "execution_count": null,
   "id": "4845445f",
   "metadata": {},
   "outputs": [],
   "source": [
    "model_basis.save('Basis-1Layer.h5')"
   ]
  },
  {
   "cell_type": "markdown",
   "id": "d00c5195",
   "metadata": {},
   "source": [
    "### Amplitude"
   ]
  },
  {
   "cell_type": "markdown",
   "id": "8216151d",
   "metadata": {},
   "source": [
    "#### Process full image"
   ]
  },
  {
   "cell_type": "code",
   "execution_count": null,
   "id": "f5b35dbc",
   "metadata": {},
   "outputs": [],
   "source": [
    "x_train_28 = x_train[:,:,:,:].reshape((-1,784))  # take only central slices\n",
    "x_test_28 = x_test[:,:,:,:].reshape((-1,784))  # take only central slices\n",
    "\n",
    "plt.imshow(x_train_28[0,:].reshape((1,-1)), vmin=0, vmax=1, cmap='Greys')\n",
    "ax = plt.gca()\n",
    "ax.set_xticks([])\n",
    "ax.set_yticks([])\n",
    "plt.title(\"784x1 image of a 0\", fontsize=20)\n",
    "# save to file as pdf\n",
    "plt.savefig('784x1_MNIST_0.pdf', bbox_inches='tight', pad_inches=0)\n",
    "plt.show()"
   ]
  },
  {
   "cell_type": "code",
   "execution_count": null,
   "id": "58d95595",
   "metadata": {},
   "outputs": [],
   "source": [
    "n_qubits = 10\n",
    "n_layers = 1\n",
    "dev = qml.device(\"default.qubit\", wires=n_qubits)\n",
    "\n",
    "@qml.qnode(dev, diff_method=\"adjoint\")\n",
    "def qnode(inputs, weights):\n",
    "\n",
    "    #print(len(inputs))\n",
    "    qml.AmplitudeEmbedding(inputs, wires=range(10), pad_with=0.0, normalize=True)\n",
    "\n",
    "    for jj in range(n_layers):\n",
    "        for ii in range(n_qubits-1):\n",
    "            qml.RZ(weights[jj,2*ii,0], wires=0)\n",
    "            qml.RY(weights[jj,2*ii,1], wires=0)\n",
    "            qml.RZ(weights[jj,2*ii,2], wires=0)\n",
    "\n",
    "            qml.RZ(weights[jj,2*ii+1,0], wires=ii+1)\n",
    "            qml.RY(weights[jj,2*ii+1,1], wires=ii+1)\n",
    "            qml.RZ(weights[jj,2*ii+1,2], wires=ii+1)\n",
    "\n",
    "            #qml.U3(*list(weights[jj,2*ii,:]), wires=0)\n",
    "            #qml.U3(*list(weights[jj,2*ii+1,:]), wires=ii+1)\n",
    "            qml.CNOT(wires=[ii+1,0])\n",
    "            \n",
    "        qml.RZ(weights[jj,2*(n_qubits-1),0], wires=0)\n",
    "        qml.RY(weights[jj,2*(n_qubits-1),1], wires=0)\n",
    "        qml.RZ(weights[jj,2*(n_qubits-1),2], wires=0)\n",
    "\n",
    "    return qml.expval(qml.PauliZ(0))\n",
    "\n",
    "weight_shapes = {\"weights\": (n_layers, 2*(n_qubits-1)+1, 3) }\n",
    "\n",
    "\n",
    "qlayer = qml.qnn.KerasLayer(qnode, weight_shapes, output_dim=1, name=\"quantumLayer\")\n",
    "inputs = tf.keras.Input(shape=(784,), name=\"inputs\")\n",
    "#print(inputs)\n",
    "outputs = qlayer(inputs)\n",
    "model_amp = tf.keras.Model(inputs=inputs, outputs=outputs, name=\"QNN\")\n",
    "\n",
    "model_amp.predict(x_train_28[0,:].reshape(1, -1))\n",
    "print(model_amp.summary())"
   ]
  },
  {
   "cell_type": "code",
   "execution_count": null,
   "id": "e10582f0",
   "metadata": {},
   "outputs": [],
   "source": [
    "model_amp.compile(\n",
    "    loss=tf.keras.losses.Hinge(),\n",
    "    optimizer=tf.keras.optimizers.Adam(),\n",
    "    metrics=[hinge_accuracy])"
   ]
  },
  {
   "cell_type": "code",
   "execution_count": null,
   "id": "804a2b27",
   "metadata": {},
   "outputs": [],
   "source": [
    "EPOCHS = 40\n",
    "BATCH_SIZE = 32\n",
    "\n",
    "NUM_EXAMPLES = 512 #x_train_small.shape[0]\n",
    "\n",
    "x_train_sub = x_train_28[:NUM_EXAMPLES,:]\n",
    "y_train_hinge_sub = y_train_hinge[:NUM_EXAMPLES]\n",
    "\n",
    "x_test_sub = x_test_28[:,:]\n",
    "y_test_sub = y_test[:]\n",
    "\n",
    "csv_logger = CSVLogger('qnn_history_amp_1layer.log')\n",
    "\n",
    "qnn_history_amp_1layer = model_amp.fit(\n",
    "      x_train_sub, y_train_hinge_sub,callbacks=[csv_logger],\n",
    "      batch_size=BATCH_SIZE,\n",
    "      epochs=EPOCHS,\n",
    "      verbose=1)\n",
    "      #validation_data=(x_test_sub, y_test_sub))\n",
    "\n",
    "qnn_results_amp_1layer = model_amp.evaluate(x_test_sub, y_test_sub)"
   ]
  },
  {
   "cell_type": "code",
   "execution_count": null,
   "id": "e075e287",
   "metadata": {},
   "outputs": [],
   "source": [
    "model_amp.save('Amp-1Layer.h5')"
   ]
  },
  {
   "cell_type": "markdown",
   "id": "ddf3a7e0",
   "metadata": {},
   "source": [
    "### FRQI"
   ]
  },
  {
   "cell_type": "markdown",
   "id": "f90339e1",
   "metadata": {},
   "source": [
    "#### Get FRQI pixels"
   ]
  },
  {
   "cell_type": "code",
   "execution_count": null,
   "id": "e90600d0",
   "metadata": {},
   "outputs": [],
   "source": [
    "def frqi(img_array):\n",
    "    frqi = []\n",
    "    for pixel in img_array:\n",
    "        frqi.extend([(1/math.sqrt(2))*np.cos(pixel), (1/math.sqrt(2))*np.sin(pixel)])\n",
    "        \n",
    "    frqi_arr = np.array(frqi)\n",
    "    return frqi_arr"
   ]
  },
  {
   "cell_type": "code",
   "execution_count": null,
   "id": "cd6554bd",
   "metadata": {},
   "outputs": [],
   "source": [
    "x_train_frqi = []\n",
    "for image in x_train_28:\n",
    "    arr = frqi(image)\n",
    "    x_train_frqi.append(arr)\n",
    "    \n",
    "x_train_frqi = np.array(x_train_frqi)"
   ]
  },
  {
   "cell_type": "code",
   "execution_count": null,
   "id": "dcfa6f2c",
   "metadata": {},
   "outputs": [],
   "source": [
    "x_test_frqi = []\n",
    "for image in x_test_28:\n",
    "    arr = frqi(image)\n",
    "    x_test_frqi.append(arr)\n",
    "    \n",
    "x_test_frqi = np.array(x_test_frqi)"
   ]
  },
  {
   "cell_type": "code",
   "execution_count": null,
   "id": "f8995ae2",
   "metadata": {},
   "outputs": [],
   "source": [
    "n_qubits = 11\n",
    "n_layers = 1\n",
    "dev = qml.device(\"default.qubit\", wires=n_qubits)\n",
    "\n",
    "@qml.qnode(dev, diff_method=\"adjoint\")\n",
    "def qnode(inputs, weights):\n",
    "\n",
    "    #print(len(inputs))\n",
    "    qml.AmplitudeEmbedding(inputs, wires=range(11), pad_with=0.0, normalize=True)\n",
    "\n",
    "    for jj in range(n_layers):\n",
    "        for ii in range(n_qubits-1):\n",
    "            qml.RZ(weights[jj,2*ii,0], wires=0)\n",
    "            qml.RY(weights[jj,2*ii,1], wires=0)\n",
    "            qml.RZ(weights[jj,2*ii,2], wires=0)\n",
    "\n",
    "            qml.RZ(weights[jj,2*ii+1,0], wires=ii+1)\n",
    "            qml.RY(weights[jj,2*ii+1,1], wires=ii+1)\n",
    "            qml.RZ(weights[jj,2*ii+1,2], wires=ii+1)\n",
    "\n",
    "            #qml.U3(*list(weights[jj,2*ii,:]), wires=0)\n",
    "            #qml.U3(*list(weights[jj,2*ii+1,:]), wires=ii+1)\n",
    "            qml.CNOT(wires=[ii+1,0])\n",
    "            \n",
    "        qml.RZ(weights[jj,2*(n_qubits-1),0], wires=0)\n",
    "        qml.RY(weights[jj,2*(n_qubits-1),1], wires=0)\n",
    "        qml.RZ(weights[jj,2*(n_qubits-1),2], wires=0)\n",
    "\n",
    "    return qml.expval(qml.PauliZ(0))\n",
    "\n",
    "weight_shapes = {\"weights\": (n_layers, 2*(n_qubits-1)+1, 3) }\n",
    "\n",
    "\n",
    "qlayer = qml.qnn.KerasLayer(qnode, weight_shapes, output_dim=1, name=\"quantumLayer\")\n",
    "inputs = tf.keras.Input(shape=(1568,), name=\"inputs\")\n",
    "#print(inputs)\n",
    "outputs = qlayer(inputs)\n",
    "model_frqi = tf.keras.Model(inputs=inputs, outputs=outputs, name=\"QNN\")\n",
    "\n",
    "model_frqi.predict(x_train_frqi[0,:].reshape(1, -1))\n",
    "print(model_frqi.summary())"
   ]
  },
  {
   "cell_type": "code",
   "execution_count": null,
   "id": "cb8ac4e9",
   "metadata": {},
   "outputs": [],
   "source": [
    "model_frqi.compile(\n",
    "    loss=tf.keras.losses.Hinge(),\n",
    "    optimizer=tf.keras.optimizers.Adam(),\n",
    "    metrics=[hinge_accuracy])"
   ]
  },
  {
   "cell_type": "code",
   "execution_count": null,
   "id": "695684b6",
   "metadata": {},
   "outputs": [],
   "source": [
    "EPOCHS = 40\n",
    "BATCH_SIZE = 32\n",
    "\n",
    "NUM_EXAMPLES = 512 #x_train_small.shape[0]\n",
    "\n",
    "x_train_sub = x_train_frqi[:NUM_EXAMPLES,:]\n",
    "y_train_hinge_sub = y_train_hinge[:NUM_EXAMPLES]\n",
    "\n",
    "x_test_sub = x_test_frqi[:,:]\n",
    "y_test_sub = y_test[:]\n",
    "\n",
    "csv_logger = CSVLogger('qnn_history_frqi_1layer.log')\n",
    "\n",
    "qnn_history_frqi_1layer = model_frqi.fit(\n",
    "      x_train_sub, y_train_hinge_sub,callbacks=[csv_logger],\n",
    "      batch_size=BATCH_SIZE,\n",
    "      epochs=EPOCHS,\n",
    "      verbose=1)\n",
    "      #validation_data=(x_test_sub, y_test_sub))\n",
    "\n",
    "qnn_results_frqi_1layer = model_frqi.evaluate(x_test_sub, y_test_sub)"
   ]
  },
  {
   "cell_type": "code",
   "execution_count": null,
   "id": "b618583b",
   "metadata": {},
   "outputs": [],
   "source": [
    "model_frqi.save('frqi-1Layer.h5')"
   ]
  },
  {
   "cell_type": "markdown",
   "id": "2a8117f6",
   "metadata": {},
   "source": [
    "### Plot"
   ]
  },
  {
   "cell_type": "code",
   "execution_count": 15,
   "id": "c5c9017d",
   "metadata": {},
   "outputs": [],
   "source": [
    "qnn_history_basis_1layer = pd.read_csv('qnn_history_basis_1layer.log')\n",
    "qnn_history_amp_1layer = pd.read_csv('qnn_history_amp_1layer.log')\n",
    "qnn_history_frqi_1layer = pd.read_csv('qnn_history_frqi_1layer.log')"
   ]
  },
  {
   "cell_type": "code",
   "execution_count": 17,
   "id": "9bb85c3d",
   "metadata": {},
   "outputs": [
    {
     "data": {
      "image/png": "[encoded data removed]",
      "text/plain": [
       "<Figure size 640x480 with 1 Axes>"
      ]
     },
     "metadata": {},
     "output_type": "display_data"
    }
   ],
   "source": [
    "plt.plot(np.arange(1,41), qnn_history_basis_1layer[\"hinge_accuracy\"], label=\"Bais\")\n",
    "plt.plot(np.arange(1,41), qnn_history_amp_1layer[\"hinge_accuracy\"], label=\"Amplitude\")\n",
    "plt.plot(np.arange(1,41), qnn_history_frqi_1layer[\"hinge_accuracy\"], label=\"FRQI\")\n",
    "plt.xlabel(\"Epoch\")\n",
    "plt.ylabel(\"Hinge Accuracy\")\n",
    "plt.title(\"1-Layer Accuracy\")\n",
    "plt.legend()\n",
    "# modify x_tic  ks to also include 20\n",
    "plt.xticks(np.arange(0, 41, 2.5))\n",
    "# save as pdf with tight layout and no padding\n",
    "plt.savefig(\"frqi-Amp-Basis acc 1Layer.pdf\", bbox_inches=\"tight\", pad_inches=0)\n",
    "plt.show()"
   ]
  },
  {
   "cell_type": "code",
   "execution_count": 18,
   "id": "d3d71923",
   "metadata": {},
   "outputs": [
    {
     "data": {
      "image/png": "[encoded data removed]",
      "text/plain": [
       "<Figure size 640x480 with 1 Axes>"
      ]
     },
     "metadata": {},
     "output_type": "display_data"
    }
   ],
   "source": [
    "plt.plot(np.arange(1,41), qnn_history_basis_1layer[\"loss\"], label=\"Basis\")\n",
    "plt.plot(np.arange(1,41), qnn_history_amp_1layer[\"loss\"], label=\"Amplitude\")\n",
    "plt.plot(np.arange(1,41), qnn_history_frqi_1layer[\"loss\"], label=\"FRQI\")\n",
    "\n",
    "plt.xlabel(\"Epoch\")\n",
    "plt.ylabel(\"Loss\")\n",
    "plt.title(\"1-Layer Loss\")\n",
    "plt.legend()\n",
    "# modify x_ticks to also include 20\n",
    "plt.xticks(np.arange(0, 41, 2.5))\n",
    "# save as pdf with tight layout and no padding\n",
    "plt.savefig(\"Frqi-Amp-Basis loss 1Layer.pdf\", bbox_inches=\"tight\", pad_inches=0)\n",
    "plt.show()"
   ]
  },
  {
   "cell_type": "markdown",
   "id": "19fad42f",
   "metadata": {},
   "source": [
    "## 2- Layer"
   ]
  },
  {
   "cell_type": "markdown",
   "id": "582d0aeb",
   "metadata": {},
   "source": [
    "### Basis"
   ]
  },
  {
   "cell_type": "code",
   "execution_count": null,
   "id": "b6291f51",
   "metadata": {},
   "outputs": [],
   "source": [
    "n_qubits = 9\n",
    "n_layers = 2\n",
    "dev = qml.device(\"default.qubit\", wires=n_qubits)\n",
    "\n",
    "@qml.qnode(dev, diff_method=\"adjoint\")\n",
    "def qnode(inputs, weights):\n",
    "\n",
    "    for ii in range(n_qubits):\n",
    "        qml.RY(np.pi * inputs[ii], wires=ii)\n",
    "\n",
    "    for jj in range(n_layers):\n",
    "        for ii in range(n_qubits-1):\n",
    "            qml.RZ(weights[jj,2*ii,0], wires=0)\n",
    "            qml.RY(weights[jj,2*ii,1], wires=0)\n",
    "            qml.RZ(weights[jj,2*ii,2], wires=0)\n",
    "\n",
    "            qml.RZ(weights[jj,2*ii+1,0], wires=ii+1)\n",
    "            qml.RY(weights[jj,2*ii+1,1], wires=ii+1)\n",
    "            qml.RZ(weights[jj,2*ii+1,2], wires=ii+1)\n",
    "\n",
    "            #qml.U3(*list(weights[jj,2*ii,:]), wires=0)\n",
    "            #qml.U3(*list(weights[jj,2*ii+1,:]), wires=ii+1)\n",
    "            qml.CNOT(wires=[ii+1,0])\n",
    "            \n",
    "        qml.RZ(weights[jj,2*(n_qubits-1),0], wires=0)\n",
    "        qml.RY(weights[jj,2*(n_qubits-1),1], wires=0)\n",
    "        qml.RZ(weights[jj,2*(n_qubits-1),2], wires=0)\n",
    "\n",
    "    return qml.expval(qml.PauliZ(0))\n",
    "\n",
    "weight_shapes = {\"weights\": (n_layers, 2*(n_qubits-1)+1, 3) }\n",
    "\n",
    "\n",
    "qlayer = qml.qnn.KerasLayer(qnode, weight_shapes, output_dim=1, name=\"quantumLayer\")\n",
    "inputs = tf.keras.Input(shape=(n_qubits,), name=\"inputs\")\n",
    "outputs = qlayer(inputs)\n",
    "model2_basis = tf.keras.Model(inputs=inputs, outputs=outputs, name=\"QNN\")\n",
    "\n",
    "model2_basis.predict(x_train_9[0,:])\n",
    "print(model2_basis.summary())o"
   ]
  },
  {
   "cell_type": "code",
   "execution_count": null,
   "id": "c903faae",
   "metadata": {},
   "outputs": [],
   "source": [
    "model2_basis.compile(\n",
    "    loss=tf.keras.losses.Hinge(),\n",
    "    optimizer=tf.keras.optimizers.Adam(),\n",
    "    metrics=[hinge_accuracy])"
   ]
  },
  {
   "cell_type": "code",
   "execution_count": null,
   "id": "c54daec8",
   "metadata": {},
   "outputs": [],
   "source": [
    "EPOCHS = 40\n",
    "BATCH_SIZE = 32\n",
    "\n",
    "NUM_EXAMPLES = 512 #x_train_small.shape[0]\n",
    "print(NUM_EXAMPLES)\n",
    "\n",
    "x_train_sub = x_train_9[:NUM_EXAMPLES,:]\n",
    "y_train_hinge_sub = y_train_hinge[:NUM_EXAMPLES]\n",
    "\n",
    "x_test_sub = x_test_9[:,:]\n",
    "y_test_sub = y_test[:]\n",
    "\n",
    "csv_logger = CSVLogger('qnn_history_basis_2layer.log')\n",
    "\n",
    "qnn_history_basis_2layer = model2_basis.fit(\n",
    "      x_train_sub, y_train_hinge_sub, callbacks=[csv_logger],\n",
    "      batch_size=BATCH_SIZE,\n",
    "      epochs=EPOCHS,\n",
    "      verbose=1)#,\n",
    "      #validation_data=(x_test_sub, y_test_sub))\n",
    "\n",
    "qnn_results_basis_2layer = model2_basis.evaluate(x_test_sub, y_test_sub)"
   ]
  },
  {
   "cell_type": "code",
   "execution_count": null,
   "id": "68515d96",
   "metadata": {},
   "outputs": [],
   "source": [
    "model2_basis.save('Basis-2Layer.h5')"
   ]
  },
  {
   "cell_type": "markdown",
   "id": "020f3ca2",
   "metadata": {},
   "source": [
    "### Amplitude"
   ]
  },
  {
   "cell_type": "code",
   "execution_count": null,
   "id": "d0ab394e",
   "metadata": {},
   "outputs": [],
   "source": [
    "n_qubits = 10\n",
    "n_layers = 2\n",
    "dev = qml.device(\"default.qubit\", wires=n_qubits)\n",
    "\n",
    "@qml.qnode(dev, diff_method=\"adjoint\")\n",
    "def qnode(inputs, weights):\n",
    "\n",
    "    qml.AmplitudeEmbedding(inputs, wires=range(10), pad_with=0.0, normalize=True)\n",
    "\n",
    "    for jj in range(n_layers):\n",
    "        for ii in range(n_qubits-1):\n",
    "            qml.RZ(weights[jj,2*ii,0], wires=0)\n",
    "            qml.RY(weights[jj,2*ii,1], wires=0)\n",
    "            qml.RZ(weights[jj,2*ii,2], wires=0)\n",
    "\n",
    "            qml.RZ(weights[jj,2*ii+1,0], wires=ii+1)\n",
    "            qml.RY(weights[jj,2*ii+1,1], wires=ii+1)\n",
    "            qml.RZ(weights[jj,2*ii+1,2], wires=ii+1)\n",
    "\n",
    "            #qml.U3(*list(weights[jj,2*ii,:]), wires=0)\n",
    "            #qml.U3(*list(weights[jj,2*ii+1,:]), wires=ii+1)\n",
    "            qml.CNOT(wires=[ii+1,0])\n",
    "            \n",
    "        qml.RZ(weights[jj,2*(n_qubits-1),0], wires=0)\n",
    "        qml.RY(weights[jj,2*(n_qubits-1),1], wires=0)\n",
    "        qml.RZ(weights[jj,2*(n_qubits-1),2], wires=0)\n",
    "\n",
    "    return qml.expval(qml.PauliZ(0))\n",
    "\n",
    "weight_shapes = {\"weights\": (n_layers, 2*(n_qubits-1)+1, 3) }\n",
    "\n",
    "\n",
    "qlayer = qml.qnn.KerasLayer(qnode, weight_shapes, output_dim=1, name=\"quantumLayer\")\n",
    "inputs = tf.keras.Input(shape=(784,), name=\"inputs\")\n",
    "outputs = qlayer(inputs)\n",
    "model2_amp = tf.keras.Model(inputs=inputs, outputs=outputs, name=\"QNN\")\n",
    "\n",
    "model2_amp.predict(x_train_28[0,:].reshape(1, -1))\n",
    "print(model2_amp.summary())"
   ]
  },
  {
   "cell_type": "code",
   "execution_count": null,
   "id": "5e036b70",
   "metadata": {},
   "outputs": [],
   "source": [
    "model2_amp.compile(\n",
    "    loss=tf.keras.losses.Hinge(),\n",
    "    optimizer=tf.keras.optimizers.Adam(),\n",
    "    metrics=[hinge_accuracy])"
   ]
  },
  {
   "cell_type": "code",
   "execution_count": null,
   "id": "95f2bc48",
   "metadata": {},
   "outputs": [],
   "source": [
    "EPOCHS = 40\n",
    "BATCH_SIZE = 32\n",
    "\n",
    "NUM_EXAMPLES = 512 #x_train_small.shape[0]\n",
    "print(NUM_EXAMPLES)\n",
    "\n",
    "x_train_sub = x_train_28[:NUM_EXAMPLES,:]\n",
    "y_train_hinge_sub = y_train_hinge[:NUM_EXAMPLES]\n",
    "\n",
    "x_test_sub = x_test_28[:,:]\n",
    "y_test_sub = y_test[:]\n",
    "\n",
    "csv_logger = CSVLogger('qnn_history_amp_2layer.log')\n",
    "\n",
    "qnn_history_amp_2layer = model2_amp.fit(\n",
    "      x_train_sub, y_train_hinge_sub, callbacks=[csv_logger],\n",
    "      batch_size=BATCH_SIZE,\n",
    "      epochs=EPOCHS,\n",
    "      verbose=1)#,\n",
    "      #validation_data=(x_test_sub, y_test_sub))\n",
    "\n",
    "qnn_results_amp_2layer = model2_amp.evaluate(x_test_sub, y_test_sub)"
   ]
  },
  {
   "cell_type": "code",
   "execution_count": null,
   "id": "b425985f",
   "metadata": {},
   "outputs": [],
   "source": [
    "model2_amp.save('Amp-2Layer.h5')"
   ]
  },
  {
   "cell_type": "markdown",
   "id": "683b6a6c",
   "metadata": {},
   "source": [
    "### FRQI"
   ]
  },
  {
   "cell_type": "code",
   "execution_count": null,
   "id": "a7c85047",
   "metadata": {},
   "outputs": [],
   "source": [
    "n_qubits = 11\n",
    "n_layers = 2\n",
    "dev = qml.device(\"default.qubit\", wires=n_qubits)\n",
    "\n",
    "@qml.qnode(dev, diff_method=\"adjoint\")\n",
    "def qnode(inputs, weights):\n",
    "\n",
    "    #print(len(inputs))\n",
    "    qml.AmplitudeEmbedding(inputs, wires=range(11), pad_with=0.0, normalize=True)\n",
    "\n",
    "    for jj in range(n_layers):\n",
    "        for ii in range(n_qubits-1):\n",
    "            qml.RZ(weights[jj,2*ii,0], wires=0)\n",
    "            qml.RY(weights[jj,2*ii,1], wires=0)\n",
    "            qml.RZ(weights[jj,2*ii,2], wires=0)\n",
    "\n",
    "            qml.RZ(weights[jj,2*ii+1,0], wires=ii+1)\n",
    "            qml.RY(weights[jj,2*ii+1,1], wires=ii+1)\n",
    "            qml.RZ(weights[jj,2*ii+1,2], wires=ii+1)\n",
    "\n",
    "            #qml.U3(*list(weights[jj,2*ii,:]), wires=0)\n",
    "            #qml.U3(*list(weights[jj,2*ii+1,:]), wires=ii+1)\n",
    "            qml.CNOT(wires=[ii+1,0])\n",
    "            \n",
    "        qml.RZ(weights[jj,2*(n_qubits-1),0], wires=0)\n",
    "        qml.RY(weights[jj,2*(n_qubits-1),1], wires=0)\n",
    "        qml.RZ(weights[jj,2*(n_qubits-1),2], wires=0)\n",
    "\n",
    "    return qml.expval(qml.PauliZ(0))\n",
    "\n",
    "weight_shapes = {\"weights\": (n_layers, 2*(n_qubits-1)+1, 3) }\n",
    "\n",
    "\n",
    "qlayer = qml.qnn.KerasLayer(qnode, weight_shapes, output_dim=1, name=\"quantumLayer\")\n",
    "inputs = tf.keras.Input(shape=(1568,), name=\"inputs\")\n",
    "#print(inputs)\n",
    "outputs = qlayer(inputs)\n",
    "model2_frqi = tf.keras.Model(inputs=inputs, outputs=outputs, name=\"QNN\")\n",
    "\n",
    "model2_frqi.predict(x_train_frqi[0,:].reshape(1, -1))\n",
    "print(model2_frqi.summary())"
   ]
  },
  {
   "cell_type": "code",
   "execution_count": null,
   "id": "20380130",
   "metadata": {},
   "outputs": [],
   "source": [
    "model2_frqi.compile(\n",
    "    loss=tf.keras.losses.Hinge(),\n",
    "    optimizer=tf.keras.optimizers.Adam(),\n",
    "    metrics=[hinge_accuracy])"
   ]
  },
  {
   "cell_type": "code",
   "execution_count": null,
   "id": "bb6f2477",
   "metadata": {},
   "outputs": [],
   "source": [
    "EPOCHS = 40\n",
    "BATCH_SIZE = 32\n",
    "\n",
    "NUM_EXAMPLES = 512 #x_train_small.shape[0]\n",
    "\n",
    "x_train_sub = x_train_frqi[:NUM_EXAMPLES,:]\n",
    "y_train_hinge_sub = y_train_hinge[:NUM_EXAMPLES]\n",
    "\n",
    "x_test_sub = x_test_frqi[:,:]\n",
    "y_test_sub = y_test[:]\n",
    "\n",
    "csv_logger = CSVLogger('qnn_history_frqi_2layer.log')\n",
    "\n",
    "qnn_history_frqi_2layer = model2_frqi.fit(\n",
    "      x_train_sub, y_train_hinge_sub,callbacks=[csv_logger],\n",
    "      batch_size=BATCH_SIZE,\n",
    "      epochs=EPOCHS,\n",
    "      verbose=1)\n",
    "      #validation_data=(x_test_sub, y_test_sub))\n",
    "\n",
    "qnn_results_frqi_2layer = model2_frqi.evaluate(x_test_sub, y_test_sub)"
   ]
  },
  {
   "cell_type": "code",
   "execution_count": null,
   "id": "fcdbb9e3",
   "metadata": {},
   "outputs": [],
   "source": [
    "model2_frqi.save('frqi-2Layer.h5')"
   ]
  },
  {
   "cell_type": "markdown",
   "id": "1f785772",
   "metadata": {},
   "source": [
    "### Plot"
   ]
  },
  {
   "cell_type": "code",
   "execution_count": 19,
   "id": "04c3ff5f",
   "metadata": {},
   "outputs": [],
   "source": [
    "qnn_history_basis_2layer = pd.read_csv('qnn_history_basis_2layer.log')\n",
    "qnn_history_amp_2layer = pd.read_csv('qnn_history_amp_2layer.log')\n",
    "qnn_history_frqi_2layer = pd.read_csv('qnn_history_frqi_2layer.log')"
   ]
  },
  {
   "cell_type": "code",
   "execution_count": 21,
   "id": "0c5658d0",
   "metadata": {},
   "outputs": [
    {
     "data": {
      "image/png": "[encoded data removed]",
      "text/plain": [
       "<Figure size 640x480 with 1 Axes>"
      ]
     },
     "metadata": {},
     "output_type": "display_data"
    }
   ],
   "source": [
    "plt.plot(np.arange(1,41), qnn_history_basis_2layer[\"hinge_accuracy\"], label=\"Basis\")\n",
    "plt.plot(np.arange(1,41), qnn_history_amp_2layer[\"hinge_accuracy\"], label=\"Amplitude\")\n",
    "plt.plot(np.arange(1,41), qnn_history_frqi_2layer[\"hinge_accuracy\"], label=\"FRQI\")\n",
    "\n",
    "plt.xlabel(\"Epoch\")\n",
    "plt.ylabel(\"Hinge Accuracy\")\n",
    "plt.title(\"2-Layer Accuracy\")\n",
    "plt.legend()\n",
    "# modify x_ticks to also include 20\n",
    "plt.xticks(np.arange(0, 41, 2.5))\n",
    "# save as pdf with tight layout and no padding\n",
    "plt.savefig(\"Frqi-Amp-Basis acc 2Layer.pdf\", bbox_inches=\"tight\", pad_inches=0)\n",
    "plt.show()"
   ]
  },
  {
   "cell_type": "code",
   "execution_count": 23,
   "id": "aad6bee7",
   "metadata": {},
   "outputs": [
    {
     "data": {
      "image/png": "[encoded data removed]",
      "text/plain": [
       "<Figure size 640x480 with 1 Axes>"
      ]
     },
     "metadata": {},
     "output_type": "display_data"
    }
   ],
   "source": [
    "plt.plot(np.arange(1,41), qnn_history_basis_2layer[\"loss\"], label=\"Basis\")\n",
    "plt.plot(np.arange(1,41), qnn_history_amp_2layer[\"loss\"], label=\"Amplitude\")\n",
    "plt.plot(np.arange(1,41), qnn_history_frqi_2layer[\"loss\"], label=\"FRQI\")\n",
    "\n",
    "plt.xlabel(\"Epoch\")\n",
    "plt.ylabel(\"Loss\")\n",
    "plt.title(\"2-Layer Loss\")\n",
    "plt.legend()\n",
    "# modify x_ticks to also include 20\n",
    "plt.xticks(np.arange(0, 41, 2.5))\n",
    "# save as pdf with tight layout and no padding\n",
    "plt.savefig(\"Frqi-Amp-Basis loss 2Layer.pdf\", bbox_inches=\"tight\", pad_inches=0)\n",
    "plt.show()"
   ]
  },
  {
   "cell_type": "markdown",
   "id": "c3f5dc19",
   "metadata": {},
   "source": [
    "## 3-Layer"
   ]
  },
  {
   "cell_type": "markdown",
   "id": "7f7742ea",
   "metadata": {},
   "source": [
    "### Basis"
   ]
  },
  {
   "cell_type": "code",
   "execution_count": null,
   "id": "b184c69b",
   "metadata": {},
   "outputs": [],
   "source": [
    "n_qubits = 9\n",
    "n_layers = 3\n",
    "dev = qml.device(\"default.qubit\", wires=n_qubits)\n",
    "\n",
    "@qml.qnode(dev, diff_method=\"adjoint\")\n",
    "def qnode(inputs, weights):\n",
    "\n",
    "    for ii in range(n_qubits):\n",
    "        qml.RY(np.pi * inputs[ii], wires=ii)\n",
    "\n",
    "    for jj in range(n_layers):\n",
    "        for ii in range(n_qubits-1):\n",
    "            qml.RZ(weights[jj,2*ii,0], wires=0)\n",
    "            qml.RY(weights[jj,2*ii,1], wires=0)\n",
    "            qml.RZ(weights[jj,2*ii,2], wires=0)\n",
    "\n",
    "            qml.RZ(weights[jj,2*ii+1,0], wires=ii+1)\n",
    "            qml.RY(weights[jj,2*ii+1,1], wires=ii+1)\n",
    "            qml.RZ(weights[jj,2*ii+1,2], wires=ii+1)\n",
    "\n",
    "            #qml.U3(*list(weights[jj,2*ii,:]), wires=0)\n",
    "            #qml.U3(*list(weights[jj,2*ii+1,:]), wires=ii+1)\n",
    "            qml.CNOT(wires=[ii+1,0])\n",
    "            \n",
    "        qml.RZ(weights[jj,2*(n_qubits-1),0], wires=0)\n",
    "        qml.RY(weights[jj,2*(n_qubits-1),1], wires=0)\n",
    "        qml.RZ(weights[jj,2*(n_qubits-1),2], wires=0)\n",
    "\n",
    "    return qml.expval(qml.PauliZ(0))\n",
    "\n",
    "weight_shapes = {\"weights\": (n_layers, 2*(n_qubits-1)+1, 3) }\n",
    "\n",
    "\n",
    "qlayer = qml.qnn.KerasLayer(qnode, weight_shapes, output_dim=1, name=\"quantumLayer\")\n",
    "inputs = tf.keras.Input(shape=(n_qubits,), name=\"inputs\")\n",
    "outputs = qlayer(inputs)\n",
    "model3_basis = tf.keras.Model(inputs=inputs, outputs=outputs, name=\"QNN\")\n",
    "\n",
    "model3_basis.predict(x_train_9[0,:])\n",
    "print(model3_basis.summary())"
   ]
  },
  {
   "cell_type": "code",
   "execution_count": null,
   "id": "d5fd952f",
   "metadata": {},
   "outputs": [],
   "source": [
    "model3_basis.compile(\n",
    "    loss=tf.keras.losses.Hinge(),\n",
    "    optimizer=tf.keras.optimizers.Adam(),\n",
    "    metrics=[hinge_accuracy])"
   ]
  },
  {
   "cell_type": "code",
   "execution_count": null,
   "id": "e6c3533e",
   "metadata": {},
   "outputs": [],
   "source": [
    "EPOCHS = 40\n",
    "BATCH_SIZE = 32\n",
    "\n",
    "NUM_EXAMPLES = 512 #x_train_small.shape[0]\n",
    "print(NUM_EXAMPLES)\n",
    "\n",
    "x_train_sub = x_train_9[:NUM_EXAMPLES,:]\n",
    "y_train_hinge_sub = y_train_hinge[:NUM_EXAMPLES]\n",
    "\n",
    "x_test_sub = x_test_9[:,:]\n",
    "y_test_sub = y_test[:]\n",
    "\n",
    "csv_logger = CSVLogger('qnn_history_basis_3layer.log')\n",
    "\n",
    "qnn_history_basis_3layer = model3_basis.fit(\n",
    "      x_train_sub, y_train_hinge_sub, callbacks=[csv_logger],\n",
    "      batch_size=BATCH_SIZE,\n",
    "      epochs=EPOCHS,\n",
    "      verbose=1)#,\n",
    "      #validation_data=(x_test_sub, y_test_sub))\n",
    "\n",
    "qnn_results_basis_3layer = model3_basis.evaluate(x_test_sub, y_test_sub)"
   ]
  },
  {
   "cell_type": "code",
   "execution_count": null,
   "id": "61e2a3f1",
   "metadata": {},
   "outputs": [],
   "source": [
    "model3_basis.save('Basis-3Layer.h5')"
   ]
  },
  {
   "cell_type": "markdown",
   "id": "b9d138d8",
   "metadata": {},
   "source": [
    "### Amplitude"
   ]
  },
  {
   "cell_type": "code",
   "execution_count": null,
   "id": "0c0c4547",
   "metadata": {},
   "outputs": [],
   "source": [
    "n_qubits = 10\n",
    "n_layers = 3\n",
    "dev = qml.device(\"default.qubit\", wires=n_qubits)\n",
    "\n",
    "@qml.qnode(dev, diff_method=\"adjoint\")\n",
    "def qnode(inputs, weights):\n",
    "\n",
    "    qml.AmplitudeEmbedding(inputs, wires=range(10), pad_with=0.0, normalize=True)\n",
    "\n",
    "    for jj in range(n_layers):\n",
    "        for ii in range(n_qubits-1):\n",
    "            qml.RZ(weights[jj,2*ii,0], wires=0)\n",
    "            qml.RY(weights[jj,2*ii,1], wires=0)\n",
    "            qml.RZ(weights[jj,2*ii,2], wires=0)\n",
    "\n",
    "            qml.RZ(weights[jj,2*ii+1,0], wires=ii+1)\n",
    "            qml.RY(weights[jj,2*ii+1,1], wires=ii+1)\n",
    "            qml.RZ(weights[jj,2*ii+1,2], wires=ii+1)\n",
    "\n",
    "            #qml.U3(*list(weights[jj,2*ii,:]), wires=0)\n",
    "            #qml.U3(*list(weights[jj,2*ii+1,:]), wires=ii+1)\n",
    "            qml.CNOT(wires=[ii+1,0])\n",
    "            \n",
    "        qml.RZ(weights[jj,2*(n_qubits-1),0], wires=0)\n",
    "        qml.RY(weights[jj,2*(n_qubits-1),1], wires=0)\n",
    "        qml.RZ(weights[jj,2*(n_qubits-1),2], wires=0)\n",
    "\n",
    "    return qml.expval(qml.PauliZ(0))\n",
    "\n",
    "weight_shapes = {\"weights\": (n_layers, 2*(n_qubits-1)+1, 3) }\n",
    "\n",
    "\n",
    "qlayer = qml.qnn.KerasLayer(qnode, weight_shapes, output_dim=1, name=\"quantumLayer\")\n",
    "inputs = tf.keras.Input(shape=(784,), name=\"inputs\")\n",
    "outputs = qlayer(inputs)\n",
    "model3_amp = tf.keras.Model(inputs=inputs, outputs=outputs, name=\"QNN\")\n",
    "\n",
    "model3_amp.predict(x_train_28[0,:].reshape(1, -1))\n",
    "print(model3_amp.summary())"
   ]
  },
  {
   "cell_type": "code",
   "execution_count": null,
   "id": "cf2cd9c5",
   "metadata": {},
   "outputs": [],
   "source": [
    "model3_amp.compile(\n",
    "    loss=tf.keras.losses.Hinge(),\n",
    "    optimizer=tf.keras.optimizers.Adam(),\n",
    "    metrics=[hinge_accuracy])"
   ]
  },
  {
   "cell_type": "code",
   "execution_count": null,
   "id": "1b14b68e",
   "metadata": {},
   "outputs": [],
   "source": [
    "EPOCHS = 40\n",
    "BATCH_SIZE = 32\n",
    "\n",
    "NUM_EXAMPLES = 512 #x_train_small.shape[0]\n",
    "print(NUM_EXAMPLES)\n",
    "\n",
    "x_train_sub = x_train_28[:NUM_EXAMPLES,:]\n",
    "y_train_hinge_sub = y_train_hinge[:NUM_EXAMPLES]\n",
    "\n",
    "x_test_sub = x_test_28[:,:]\n",
    "y_test_sub = y_test[:]\n",
    "\n",
    "csv_logger = CSVLogger('qnn_history_amp_3layer.log')\n",
    "\n",
    "qnn_history_amp_3layer = model3_amp.fit(\n",
    "      x_train_sub, y_train_hinge_sub, callbacks=[csv_logger],\n",
    "      batch_size=BATCH_SIZE,\n",
    "      epochs=EPOCHS,\n",
    "      verbose=1)#,\n",
    "      #validation_data=(x_test_sub, y_test_sub))\n",
    "\n",
    "qnn_results_amp_3layer = model3_amp.evaluate(x_test_sub, y_test_sub)"
   ]
  },
  {
   "cell_type": "code",
   "execution_count": null,
   "id": "0410a13d",
   "metadata": {},
   "outputs": [],
   "source": [
    "model3_amp.save('Amp-3Layer.h5')"
   ]
  },
  {
   "cell_type": "markdown",
   "id": "48ee8079",
   "metadata": {},
   "source": [
    "### FRQI"
   ]
  },
  {
   "cell_type": "code",
   "execution_count": null,
   "id": "b26f67b6",
   "metadata": {},
   "outputs": [],
   "source": [
    "n_qubits = 11\n",
    "n_layers = 3\n",
    "dev = qml.device(\"default.qubit\", wires=n_qubits)\n",
    "\n",
    "@qml.qnode(dev, diff_method=\"adjoint\")\n",
    "def qnode(inputs, weights):\n",
    "\n",
    "    #print(len(inputs))\n",
    "    qml.AmplitudeEmbedding(inputs, wires=range(11), pad_with=0.0, normalize=True)\n",
    "\n",
    "    for jj in range(n_layers):\n",
    "        for ii in range(n_qubits-1):\n",
    "            qml.RZ(weights[jj,2*ii,0], wires=0)\n",
    "            qml.RY(weights[jj,2*ii,1], wires=0)\n",
    "            qml.RZ(weights[jj,2*ii,2], wires=0)\n",
    "\n",
    "            qml.RZ(weights[jj,2*ii+1,0], wires=ii+1)\n",
    "            qml.RY(weights[jj,2*ii+1,1], wires=ii+1)\n",
    "            qml.RZ(weights[jj,2*ii+1,2], wires=ii+1)\n",
    "\n",
    "            #qml.U3(*list(weights[jj,2*ii,:]), wires=0)\n",
    "            #qml.U3(*list(weights[jj,2*ii+1,:]), wires=ii+1)\n",
    "            qml.CNOT(wires=[ii+1,0])\n",
    "            \n",
    "        qml.RZ(weights[jj,2*(n_qubits-1),0], wires=0)\n",
    "        qml.RY(weights[jj,2*(n_qubits-1),1], wires=0)\n",
    "        qml.RZ(weights[jj,2*(n_qubits-1),2], wires=0)\n",
    "\n",
    "    return qml.expval(qml.PauliZ(0))\n",
    "\n",
    "weight_shapes = {\"weights\": (n_layers, 2*(n_qubits-1)+1, 3) }\n",
    "\n",
    "\n",
    "qlayer = qml.qnn.KerasLayer(qnode, weight_shapes, output_dim=1, name=\"quantumLayer\")\n",
    "inputs = tf.keras.Input(shape=(1568,), name=\"inputs\")\n",
    "#print(inputs)\n",
    "outputs = qlayer(inputs)\n",
    "model3_frqi = tf.keras.Model(inputs=inputs, outputs=outputs, name=\"QNN\")\n",
    "\n",
    "model3_frqi.predict(x_train_frqi[0,:].reshape(1, -1))\n",
    "print(model3_frqi.summary())"
   ]
  },
  {
   "cell_type": "code",
   "execution_count": null,
   "id": "243ddd7b",
   "metadata": {},
   "outputs": [],
   "source": [
    "model3_frqi.compile(\n",
    "    loss=tf.keras.losses.Hinge(),\n",
    "    optimizer=tf.keras.optimizers.Adam(),\n",
    "    metrics=[hinge_accuracy])"
   ]
  },
  {
   "cell_type": "code",
   "execution_count": null,
   "id": "a25cc5cb",
   "metadata": {},
   "outputs": [],
   "source": [
    "EPOCHS = 40\n",
    "BATCH_SIZE = 32\n",
    "\n",
    "NUM_EXAMPLES = 512 #x_train_small.shape[0]\n",
    "\n",
    "x_train_sub = x_train_frqi[:NUM_EXAMPLES,:]\n",
    "y_train_hinge_sub = y_train_hinge[:NUM_EXAMPLES]\n",
    "\n",
    "x_test_sub = x_test_frqi[:,:]\n",
    "y_test_sub = y_test[:]\n",
    "\n",
    "csv_logger = CSVLogger('qnn_history_frqi_3layer.log')\n",
    "\n",
    "qnn_history_frqi_3layer = model3_frqi.fit(\n",
    "      x_train_sub, y_train_hinge_sub,callbacks=[csv_logger],\n",
    "      batch_size=BATCH_SIZE,\n",
    "      epochs=EPOCHS,\n",
    "      verbose=1)\n",
    "      #validation_data=(x_test_sub, y_test_sub))\n",
    "\n",
    "qnn_results_frqi_3layer = model3_frqi.evaluate(x_test_sub, y_test_sub)"
   ]
  },
  {
   "cell_type": "code",
   "execution_count": null,
   "id": "ff30164c",
   "metadata": {},
   "outputs": [],
   "source": [
    "model3_frqi.save('Frqi-3Layer.h5')"
   ]
  },
  {
   "cell_type": "markdown",
   "id": "758f23f5",
   "metadata": {},
   "source": [
    "### Plot"
   ]
  },
  {
   "cell_type": "code",
   "execution_count": 25,
   "id": "22f0adc1",
   "metadata": {},
   "outputs": [],
   "source": [
    "qnn_history_basis_3layer = pd.read_csv('qnn_history_basis_3layer.log')\n",
    "qnn_history_amp_3layer = pd.read_csv('qnn_history_amp_3layer.log')\n",
    "qnn_history_frqi_3layer = pd.read_csv('qnn_history_frqi_3layer.log')"
   ]
  },
  {
   "cell_type": "code",
   "execution_count": null,
   "id": "429fe627",
   "metadata": {},
   "outputs": [],
   "source": [
    "plt.plot(np.arange(1,41), qnn_history_basis_3layer[\"hinge_accuracy\"], label=\"Basis\")\n",
    "plt.plot(np.arange(1,41), qnn_history_amp_3layer[\"hinge_accuracy\"], label=\"Amplitude\")\n",
    "plt.plot(np.arange(1,41), qnn_history_frqi_3layer[\"hinge_accuracy\"], label=\"FRQI\")\n",
    "\n",
    "plt.xlabel(\"Epoch\")\n",
    "plt.ylabel(\"Hinge Accuracy\")\n",
    "plt.title(\"3-Layer Accuracy\")\n",
    "plt.legend()\n",
    "# modify x_ticks to also include 20\n",
    "plt.xticks(np.arange(0, 41, 2.5))\n",
    "# save as pdf with tight layout and no padding\n",
    "plt.savefig(\"Frqi-Amp-Basis acc 3Layer.pdf\", bbox_inches=\"tight\", pad_inches=0)\n",
    "plt.show()"
   ]
  },
  {
   "cell_type": "code",
   "execution_count": null,
   "id": "c2fec671",
   "metadata": {},
   "outputs": [],
   "source": [
    "plt.plot(np.arange(1,41), qnn_history_basis_3layer[\"loss\"], label=\"Basis\")\n",
    "plt.plot(np.arange(1,41), qnn_history_amp_3layer[\"loss\"], label=\"Amplitude\")\n",
    "plt.plot(np.arange(1,41), qnn_history_frqi_3layer[\"loss\"], label=\"FRQI\")\n",
    "\n",
    "plt.xlabel(\"Epoch\")\n",
    "plt.ylabel(\"Loss\")\n",
    "plt.title(\"3-Layer Loss\")\n",
    "plt.legend()\n",
    "# modify x_ticks to also include 20\n",
    "plt.xticks(np.arange(0, 41, 2.5))\n",
    "# save as pdf with tight layout and no padding\n",
    "plt.savefig(\"Frqi-Amp-Basis loss 3Layer.pdf\", bbox_inches=\"tight\", pad_inches=0)\n",
    "plt.show()"
   ]
  },
  {
   "cell_type": "markdown",
   "id": "290fc894",
   "metadata": {},
   "source": [
    "# Optimisation"
   ]
  },
  {
   "cell_type": "markdown",
   "id": "d280f5b0",
   "metadata": {},
   "source": [
    "## 2 Layer Amplitude encoding"
   ]
  },
  {
   "cell_type": "markdown",
   "id": "eca3b616",
   "metadata": {},
   "source": [
    "### Adjoint Adam"
   ]
  },
  {
   "cell_type": "code",
   "execution_count": null,
   "id": "d61ff9ec",
   "metadata": {},
   "outputs": [],
   "source": [
    "n_qubits = 10\n",
    "n_layers = 2\n",
    "dev = qml.device(\"default.qubit\", wires=n_qubits)\n",
    "\n",
    "@qml.qnode(dev, diff_method=\"adjoint\")\n",
    "def qnode(inputs, weights):\n",
    "\n",
    "    qml.AmplitudeEmbedding(inputs, wires=range(10), pad_with=0.0, normalize=True)\n",
    "\n",
    "    for jj in range(n_layers):\n",
    "        for ii in range(n_qubits-1):\n",
    "            qml.RZ(weights[jj,2*ii,0], wires=0)\n",
    "            qml.RY(weights[jj,2*ii,1], wires=0)\n",
    "            qml.RZ(weights[jj,2*ii,2], wires=0)\n",
    "\n",
    "            qml.RZ(weights[jj,2*ii+1,0], wires=ii+1)\n",
    "            qml.RY(weights[jj,2*ii+1,1], wires=ii+1)\n",
    "            qml.RZ(weights[jj,2*ii+1,2], wires=ii+1)\n",
    "\n",
    "            #qml.U3(*list(weights[jj,2*ii,:]), wires=0)\n",
    "            #qml.U3(*list(weights[jj,2*ii+1,:]), wires=ii+1)\n",
    "            qml.CNOT(wires=[ii+1,0])\n",
    "            \n",
    "        qml.RZ(weights[jj,2*(n_qubits-1),0], wires=0)\n",
    "        qml.RY(weights[jj,2*(n_qubits-1),1], wires=0)\n",
    "        qml.RZ(weights[jj,2*(n_qubits-1),2], wires=0)\n",
    "\n",
    "    return qml.expval(qml.PauliZ(0))\n",
    "\n",
    "weight_shapes = {\"weights\": (n_layers, 2*(n_qubits-1)+1, 3) }\n",
    "\n",
    "\n",
    "qlayer = qml.qnn.KerasLayer(qnode, weight_shapes, output_dim=1, name=\"quantumLayer\")\n",
    "inputs = tf.keras.Input(shape=(784,), name=\"inputs\")\n",
    "outputs = qlayer(inputs)\n",
    "model = tf.keras.Model(inputs=inputs, outputs=outputs, name=\"QNN\")\n",
    "\n",
    "model.predict(x_train_28[0,:].reshape(1, -1))\n",
    "print(model.summary())"
   ]
  },
  {
   "cell_type": "code",
   "execution_count": null,
   "id": "2fd3750d",
   "metadata": {},
   "outputs": [],
   "source": [
    "model.compile(\n",
    "    loss=tf.keras.losses.Hinge(),\n",
    "    optimizer=tf.keras.optimizers.Adam(),\n",
    "    metrics=[hinge_accuracy])"
   ]
  },
  {
   "cell_type": "code",
   "execution_count": null,
   "id": "f87bfbf4",
   "metadata": {},
   "outputs": [],
   "source": [
    "EPOCHS = 20\n",
    "BATCH_SIZE = 32\n",
    "\n",
    "NUM_EXAMPLES = 512 #x_train_small.shape[0]\n",
    "print(NUM_EXAMPLES)\n",
    "\n",
    "x_train_sub = x_train_28[:NUM_EXAMPLES,:]\n",
    "y_train_hinge_sub = y_train_hinge[:NUM_EXAMPLES]\n",
    "\n",
    "x_test_sub = x_test_28[:,:]\n",
    "y_test_sub = y_test[:]\n",
    "\n",
    "csv_logger = CSVLogger('adj-adam.log')\n",
    "\n",
    "qnn_history = model.fit(\n",
    "      x_train_sub, y_train_hinge_sub, callbacks=[csv_logger],\n",
    "      batch_size=BATCH_SIZE,\n",
    "      epochs=EPOCHS,\n",
    "      verbose=1)#,\n",
    "      #validation_data=(x_test_sub, y_test_sub))\n",
    "\n",
    "qnn_history = model.evaluate(x_test_sub, y_test_sub)"
   ]
  },
  {
   "cell_type": "code",
   "execution_count": null,
   "id": "51280d4b",
   "metadata": {},
   "outputs": [],
   "source": [
    "model.save('adjoint-adam.h5')"
   ]
  },
  {
   "cell_type": "markdown",
   "id": "a8be1e4c",
   "metadata": {},
   "source": [
    "### Adjoint - GradientDescentOptimizer"
   ]
  },
  {
   "cell_type": "code",
   "execution_count": null,
   "id": "82c7aeb0",
   "metadata": {},
   "outputs": [],
   "source": [
    "n_qubits = 10\n",
    "n_layers = 2\n",
    "dev = qml.device(\"default.qubit\", wires=n_qubits)\n",
    "\n",
    "@qml.qnode(dev, diff_method=\"adjoint\")\n",
    "def qnode(inputs, weights):\n",
    "\n",
    "    qml.AmplitudeEmbedding(inputs, wires=range(10), pad_with=0.0, normalize=True)\n",
    "\n",
    "    for jj in range(n_layers):\n",
    "        for ii in range(n_qubits-1):\n",
    "            qml.RZ(weights[jj,2*ii,0], wires=0)\n",
    "            qml.RY(weights[jj,2*ii,1], wires=0)\n",
    "            qml.RZ(weights[jj,2*ii,2], wires=0)\n",
    "\n",
    "            qml.RZ(weights[jj,2*ii+1,0], wires=ii+1)\n",
    "            qml.RY(weights[jj,2*ii+1,1], wires=ii+1)\n",
    "            qml.RZ(weights[jj,2*ii+1,2], wires=ii+1)\n",
    "\n",
    "            #qml.U3(*list(weights[jj,2*ii,:]), wires=0)\n",
    "            #qml.U3(*list(weights[jj,2*ii+1,:]), wires=ii+1)\n",
    "            qml.CNOT(wires=[ii+1,0])\n",
    "            \n",
    "        qml.RZ(weights[jj,2*(n_qubits-1),0], wires=0)\n",
    "        qml.RY(weights[jj,2*(n_qubits-1),1], wires=0)\n",
    "        qml.RZ(weights[jj,2*(n_qubits-1),2], wires=0)\n",
    "\n",
    "    return qml.expval(qml.PauliZ(0))\n",
    "\n",
    "weight_shapes = {\"weights\": (n_layers, 2*(n_qubits-1)+1, 3) }\n",
    "\n",
    "\n",
    "qlayer = qml.qnn.KerasLayer(qnode, weight_shapes, output_dim=1, name=\"quantumLayer\")\n",
    "inputs = tf.keras.Input(shape=(784,), name=\"inputs\")\n",
    "outputs = qlayer(inputs)\n",
    "model2 = tf.keras.Model(inputs=inputs, outputs=outputs, name=\"QNN\")\n",
    "\n",
    "model2.predict(x_train_28[0,:].reshape(1, -1))\n",
    "print(model2.summary())"
   ]
  },
  {
   "cell_type": "code",
   "execution_count": null,
   "id": "f19580d1",
   "metadata": {},
   "outputs": [],
   "source": [
    "model2.compile(\n",
    "    loss=tf.keras.losses.Hinge(),\n",
    "    optimizer=tf.keras.optimizers.SGD(),\n",
    "    metrics=[hinge_accuracy])"
   ]
  },
  {
   "cell_type": "code",
   "execution_count": null,
   "id": "1ac3e740",
   "metadata": {},
   "outputs": [],
   "source": [
    "EPOCHS = 20\n",
    "BATCH_SIZE = 32\n",
    "\n",
    "NUM_EXAMPLES = 512 #x_train_small.shape[0]\n",
    "print(NUM_EXAMPLES)\n",
    "\n",
    "x_train_sub = x_train_28[:NUM_EXAMPLES,:]\n",
    "y_train_hinge_sub = y_train_hinge[:NUM_EXAMPLES]\n",
    "\n",
    "x_test_sub = x_test_28[:,:]\n",
    "y_test_sub = y_test[:]\n",
    "\n",
    "csv_logger = CSVLogger('adj-sgd.log')\n",
    "\n",
    "qnn2_history = model2.fit(\n",
    "      x_train_sub, y_train_hinge_sub, callbacks=[csv_logger],\n",
    "      batch_size=BATCH_SIZE,\n",
    "      epochs=EPOCHS,\n",
    "      verbose=1)#,\n",
    "      #validation_data=(x_test_sub, y_test_sub))\n",
    "\n",
    "qnn2_history = model2.evaluate(x_test_sub, y_test_sub)"
   ]
  },
  {
   "cell_type": "code",
   "execution_count": null,
   "id": "31e34e93",
   "metadata": {},
   "outputs": [],
   "source": [
    "model2.save('adjoint-sgd.h5')"
   ]
  },
  {
   "cell_type": "markdown",
   "id": "cbaf6e19",
   "metadata": {},
   "source": [
    "### Finite difference - GradientDescentOptimizer"
   ]
  },
  {
   "cell_type": "code",
   "execution_count": null,
   "id": "7c483801",
   "metadata": {},
   "outputs": [],
   "source": [
    "n_qubits = 10\n",
    "n_layers = 2\n",
    "dev = qml.device(\"default.qubit\", wires=n_qubits)\n",
    "\n",
    "@qml.qnode(dev, diff_method=\"finite-diff\")\n",
    "def qnode(inputs, weights):\n",
    "\n",
    "    qml.AmplitudeEmbedding(inputs, wires=range(10), pad_with=0.0, normalize=True)\n",
    "\n",
    "    for jj in range(n_layers):\n",
    "        for ii in range(n_qubits-1):\n",
    "            qml.RZ(weights[jj,2*ii,0], wires=0)\n",
    "            qml.RY(weights[jj,2*ii,1], wires=0)\n",
    "            qml.RZ(weights[jj,2*ii,2], wires=0)\n",
    "\n",
    "            qml.RZ(weights[jj,2*ii+1,0], wires=ii+1)\n",
    "            qml.RY(weights[jj,2*ii+1,1], wires=ii+1)\n",
    "            qml.RZ(weights[jj,2*ii+1,2], wires=ii+1)\n",
    "\n",
    "            #qml.U3(*list(weights[jj,2*ii,:]), wires=0)\n",
    "            #qml.U3(*list(weights[jj,2*ii+1,:]), wires=ii+1)\n",
    "            qml.CNOT(wires=[ii+1,0])\n",
    "            \n",
    "        qml.RZ(weights[jj,2*(n_qubits-1),0], wires=0)\n",
    "        qml.RY(weights[jj,2*(n_qubits-1),1], wires=0)\n",
    "        qml.RZ(weights[jj,2*(n_qubits-1),2], wires=0)\n",
    "\n",
    "    return qml.expval(qml.PauliZ(0))\n",
    "\n",
    "weight_shapes = {\"weights\": (n_layers, 2*(n_qubits-1)+1, 3) }\n",
    "\n",
    "qlayer = qml.qnn.KerasLayer(qnode, weight_shapes, output_dim=1, name=\"quantumLayer\")\n",
    "inputs = tf.keras.Input(shape=(784,), name=\"inputs\")\n",
    "outputs = qlayer(inputs)\n",
    "model3 = tf.keras.Model(inputs=inputs, outputs=outputs, name=\"QNN\")\n",
    "\n",
    "model3.predict(x_train_28[0,:].reshape(1, -1))\n",
    "print(model3.summary())"
   ]
  },
  {
   "cell_type": "code",
   "execution_count": null,
   "id": "f05bcfa7",
   "metadata": {},
   "outputs": [],
   "source": [
    "model3.compile(\n",
    "    loss=tf.keras.losses.Hinge(),\n",
    "    optimizer=tf.keras.optimizers.SGD(),\n",
    "    metrics=[hinge_accuracy])"
   ]
  },
  {
   "cell_type": "code",
   "execution_count": null,
   "id": "41e80d08",
   "metadata": {},
   "outputs": [],
   "source": [
    "EPOCHS = 20\n",
    "BATCH_SIZE = 32\n",
    "\n",
    "NUM_EXAMPLES = 512 #x_train_small.shape[0]\n",
    "print(NUM_EXAMPLES)\n",
    "\n",
    "x_train_sub = x_train_28[:NUM_EXAMPLES,:]\n",
    "y_train_hinge_sub = y_train_hinge[:NUM_EXAMPLES]\n",
    "\n",
    "x_test_sub = x_test_28[:,:]\n",
    "y_test_sub = y_test[:]\n",
    "\n",
    "csv_logger = CSVLogger('finitediff-sgd.log')\n",
    "\n",
    "qnn3_history = model3.fit(\n",
    "      x_train_sub, y_train_hinge_sub, callbacks=[csv_logger],\n",
    "      batch_size=BATCH_SIZE,\n",
    "      epochs=EPOCHS,\n",
    "      verbose=1)#,\n",
    "      #validation_data=(x_test_sub, y_test_sub))\n",
    "\n",
    "qnn3_history = model3.evaluate(x_test_sub, y_test_sub)"
   ]
  },
  {
   "cell_type": "markdown",
   "id": "fa930dc8",
   "metadata": {},
   "source": [
    "### Parameter shift - GradientDescentOptimizer"
   ]
  },
  {
   "cell_type": "code",
   "execution_count": null,
   "id": "af51bfe1",
   "metadata": {},
   "outputs": [],
   "source": [
    "n_qubits = 10\n",
    "n_layers = 2\n",
    "dev = qml.device(\"default.qubit\", wires=n_qubits)\n",
    "\n",
    "@qml.qnode(dev, diff_method=\"parameter-shift\")\n",
    "def qnode(inputs, weights):\n",
    "\n",
    "    qml.AmplitudeEmbedding(inputs, wires=range(10), pad_with=0.0, normalize=True)\n",
    "\n",
    "    for jj in range(n_layers):\n",
    "        for ii in range(n_qubits-1):\n",
    "            qml.RZ(weights[jj,2*ii,0], wires=0)\n",
    "            qml.RY(weights[jj,2*ii,1], wires=0)\n",
    "            qml.RZ(weights[jj,2*ii,2], wires=0)\n",
    "\n",
    "            qml.RZ(weights[jj,2*ii+1,0], wires=ii+1)\n",
    "            qml.RY(weights[jj,2*ii+1,1], wires=ii+1)\n",
    "            qml.RZ(weights[jj,2*ii+1,2], wires=ii+1)\n",
    "\n",
    "            #qml.U3(*list(weights[jj,2*ii,:]), wires=0)\n",
    "            #qml.U3(*list(weights[jj,2*ii+1,:]), wires=ii+1)\n",
    "            qml.CNOT(wires=[ii+1,0])\n",
    "            \n",
    "        qml.RZ(weights[jj,2*(n_qubits-1),0], wires=0)\n",
    "        qml.RY(weights[jj,2*(n_qubits-1),1], wires=0)\n",
    "        qml.RZ(weights[jj,2*(n_qubits-1),2], wires=0)\n",
    "\n",
    "    return qml.expval(qml.PauliZ(0))\n",
    "\n",
    "weight_shapes = {\"weights\": (n_layers, 2*(n_qubits-1)+1, 3) }\n",
    "\n",
    "\n",
    "qlayer = qml.qnn.KerasLayer(qnode, weight_shapes, output_dim=1, name=\"quantumLayer\")\n",
    "inputs = tf.keras.Input(shape=(784,), name=\"inputs\")\n",
    "outputs = qlayer(inputs)\n",
    "model4 = tf.keras.Model(inputs=inputs, outputs=outputs, name=\"QNN\")\n",
    "\n",
    "model4.predict(x_train_28[0,:].reshape(1, -1))\n",
    "print(model4.summary())"
   ]
  },
  {
   "cell_type": "code",
   "execution_count": null,
   "id": "f4e7c606",
   "metadata": {},
   "outputs": [],
   "source": [
    "model4.compile(\n",
    "    loss=tf.keras.losses.Hinge(),\n",
    "    optimizer=tf.keras.optimizers.SGD(),\n",
    "    metrics=[hinge_accuracy])"
   ]
  },
  {
   "cell_type": "code",
   "execution_count": null,
   "id": "a6f820e4",
   "metadata": {},
   "outputs": [],
   "source": [
    "EPOCHS = 20\n",
    "BATCH_SIZE = 32\n",
    "\n",
    "NUM_EXAMPLES = 512 #x_train_small.shape[0]\n",
    "print(NUM_EXAMPLES)\n",
    "\n",
    "x_train_sub = x_train_28[:NUM_EXAMPLES,:]\n",
    "y_train_hinge_sub = y_train_hinge[:NUM_EXAMPLES]\n",
    "\n",
    "x_test_sub = x_test_28[:,:]\n",
    "y_test_sub = y_test[:]\n",
    "\n",
    "csv_logger = CSVLogger('paramshift-sgd.log')\n",
    "\n",
    "qnn4_history = model4.fit(\n",
    "      x_train_sub, y_train_hinge_sub, callbacks=[csv_logger],\n",
    "      batch_size=BATCH_SIZE,\n",
    "      epochs=EPOCHS,\n",
    "      verbose=1)#,\n",
    "      #validation_data=(x_test_sub, y_test_sub))\n",
    "\n",
    "qnn4_history = model4.evaluate(x_test_sub, y_test_sub)"
   ]
  },
  {
   "cell_type": "code",
   "execution_count": null,
   "id": "faef9568",
   "metadata": {},
   "outputs": [],
   "source": [
    "model4.save('paramshift-sgd.h5')"
   ]
  },
  {
   "cell_type": "markdown",
   "id": "71508299",
   "metadata": {},
   "source": [
    "### SPSA"
   ]
  },
  {
   "cell_type": "code",
   "execution_count": null,
   "id": "89a76225",
   "metadata": {},
   "outputs": [],
   "source": [
    "n_qubits = 10\n",
    "n_layers = 2\n",
    "dev = qml.device(\"default.qubit\", wires=n_qubits)\n",
    "\n",
    "@qml.qnode(dev)\n",
    "def qnode(inputs, weights):\n",
    "    #print(inputs)\n",
    "    #print(weights)\n",
    "    qml.AmplitudeEmbedding(inputs, wires=range(10), pad_with=0.0, normalize=True)\n",
    "\n",
    "    for jj in range(n_layers):\n",
    "        for ii in range(n_qubits-1):\n",
    "            qml.RZ(weights[jj,2*ii,0], wires=0)\n",
    "            qml.RY(weights[jj,2*ii,1], wires=0)\n",
    "            qml.RZ(weights[jj,2*ii,2], wires=0)\n",
    "\n",
    "            qml.RZ(weights[jj,2*ii+1,0], wires=ii+1)\n",
    "            qml.RY(weights[jj,2*ii+1,1], wires=ii+1)\n",
    "            qml.RZ(weights[jj,2*ii+1,2], wires=ii+1)\n",
    "\n",
    "            #qml.U3(*list(weights[jj,2*ii,:]), wires=0)\n",
    "            #qml.U3(*list(weights[jj,2*ii+1,:]), wires=ii+1)\n",
    "            qml.CNOT(wires=[ii+1,0])\n",
    "            \n",
    "        qml.RZ(weights[jj,2*(n_qubits-1),0], wires=0)\n",
    "        qml.RY(weights[jj,2*(n_qubits-1),1], wires=0)\n",
    "        qml.RZ(weights[jj,2*(n_qubits-1),2], wires=0)\n",
    "\n",
    "    return qml.expval(qml.PauliZ(0))\n",
    "\n",
    "weight_shapes = {\"weights\": (n_layers, 2*(n_qubits-1)+1, 3) }\n",
    "\n",
    "\n",
    "qlayer = qml.qnn.KerasLayer(qnode, weight_shapes, output_dim=1, name=\"quantumLayer\")\n",
    "inputs = tf.keras.Input(shape=(784,), name=\"inputs\")\n",
    "outputs = qlayer(inputs)\n",
    "model_spsa = tf.keras.Model(inputs=inputs, outputs=outputs, name=\"QNN\")\n",
    "\n",
    "model_spsa.predict(x_train_28[0,:].reshape(1, -1))\n",
    "print(model_spsa.summary())"
   ]
  },
  {
   "cell_type": "code",
   "execution_count": null,
   "id": "dc0e2aa6",
   "metadata": {},
   "outputs": [],
   "source": [
    "from pennylane.optimize import SPSAOptimizer\n",
    "opt = qml.SPSAOptimizer(maxiter=200, c=0.15, a=0.2)\n",
    "#model_spsa.compile(loss='mse', optimizer=opt)\n",
    "model_spsa.compile(\n",
    "    loss=tf.keras.losses.Hinge(),\n",
    "    optimizer= opt,\n",
    "    metrics=[hinge_accuracy])"
   ]
  },
  {
   "cell_type": "code",
   "execution_count": null,
   "id": "31e3ac32",
   "metadata": {},
   "outputs": [],
   "source": [
    "EPOCHS = 20\n",
    "BATCH_SIZE = 32\n",
    "\n",
    "NUM_EXAMPLES = 512 #x_train_small.shape[0]\n",
    "print(NUM_EXAMPLES)\n",
    "\n",
    "x_train_sub = x_train_28[:NUM_EXAMPLES,:]\n",
    "y_train_hinge_sub = y_train_hinge[:NUM_EXAMPLES]\n",
    "\n",
    "x_test_sub = x_test_28[:,:]\n",
    "y_test_sub = y_test[:]\n",
    "\n",
    "csv_logger = CSVLogger('spsa.log')\n",
    "\n",
    "qnn_spsa_history = model_spsa.fit(\n",
    "      x_train_sub, y_train_hinge_sub, callbacks=[csv_logger],\n",
    "      batch_size=BATCH_SIZE,\n",
    "      epochs=EPOCHS,\n",
    "      verbose=1)#,\n",
    "      #validation_data=(x_test_sub, y_test_sub))\n",
    "\n",
    "qnn_spsa_history = model_spsa.evaluate(x_test_sub, y_test_sub)"
   ]
  },
  {
   "cell_type": "code",
   "execution_count": null,
   "id": "f8b3fcfa",
   "metadata": {},
   "outputs": [],
   "source": [
    "model_spsa.save('spsa.h5')"
   ]
  },
  {
   "cell_type": "markdown",
   "id": "87740ecd",
   "metadata": {},
   "source": [
    "### Plot"
   ]
  },
  {
   "cell_type": "code",
   "execution_count": 28,
   "id": "2a31a8fd",
   "metadata": {},
   "outputs": [],
   "source": [
    "qnn_history = pd.read_csv('adj-adam.log')\n",
    "qnn2_history = pd.read_csv('adj-sgd.log')\n",
    "qnn3_history = pd.read_csv('finitediff-sgd.log')\n",
    "qnn4_history = pd.read_csv('paramshift-sgd.log')"
   ]
  },
  {
   "cell_type": "code",
   "execution_count": 29,
   "id": "2a7b047d",
   "metadata": {},
   "outputs": [
    {
     "data": {
      "image/png": "[encoded data removed]",
      "text/plain": [
       "<Figure size 640x480 with 1 Axes>"
      ]
     },
     "metadata": {},
     "output_type": "display_data"
    }
   ],
   "source": [
    "plt.plot(np.arange(1,21), qnn_history[\"hinge_accuracy\"], label=\"Adam-Adj\")\n",
    "plt.plot(np.arange(1,21), qnn2_history[\"hinge_accuracy\"], label=\"GD-Adj\")\n",
    "plt.plot(np.arange(1,21), qnn3_history[\"hinge_accuracy\"], label=\"GD-FD\")\n",
    "plt.plot(np.arange(1,21), qnn4_history[\"hinge_accuracy\"], label=\"GD-PS\")\n",
    "#plt.plot(np.arange(1,21), qnn_spsa_history.history[\"hinge_accuracy\"], label=\"SPSA\")\n",
    "\n",
    "plt.xlabel(\"Epoch\")\n",
    "plt.ylabel(\"Hinge Accuracy\")\n",
    "plt.title(\"2-Layer Accuracy\")\n",
    "plt.legend()\n",
    "# modify x_ticks to also include 20\n",
    "plt.xticks(np.arange(0, 21, 2.5))\n",
    "# save as pdf with tight layout and no padding\n",
    "plt.savefig(\"optimisation amp acc 2Layer.pdf\", bbox_inches=\"tight\", pad_inches=0)\n",
    "plt.show()"
   ]
  },
  {
   "cell_type": "code",
   "execution_count": 30,
   "id": "1a045d65",
   "metadata": {},
   "outputs": [
    {
     "data": {
      "image/png": "[encoded data removed]",
      "text/plain": [
       "<Figure size 640x480 with 1 Axes>"
      ]
     },
     "metadata": {},
     "output_type": "display_data"
    }
   ],
   "source": [
    "plt.plot(np.arange(1,21), qnn_history[\"loss\"], label=\"Adam-Adj\")\n",
    "plt.plot(np.arange(1,21), qnn2_history[\"loss\"], label=\"GD-Adj\")\n",
    "plt.plot(np.arange(1,21), qnn3_history[\"loss\"], label=\"GD-FD\")\n",
    "plt.plot(np.arange(1,21), qnn4_history[\"loss\"], label=\"GD-PS\")\n",
    "#plt.plot(np.arange(1,21), qnn_spsa_history.history[\"hinge_accuracy\"], label=\"SPSA\")\n",
    "\n",
    "plt.xlabel(\"Epoch\")\n",
    "plt.ylabel(\"Hinge Accuracy\")\n",
    "plt.title(\"2-Layer Loss\")\n",
    "plt.legend()\n",
    "# modify x_ticks to also include 20\n",
    "plt.xticks(np.arange(0, 21, 2.5))\n",
    "# save as pdf with tight layout and no padding\n",
    "plt.savefig(\"optimisation amp loss 2Layer.pdf\", bbox_inches=\"tight\", pad_inches=0)\n",
    "plt.show()"
   ]
  },
  {
   "cell_type": "markdown",
   "id": "808172f5",
   "metadata": {},
   "source": [
    "# New Ansatz - with U3 gates"
   ]
  },
  {
   "cell_type": "markdown",
   "id": "4a8cc542",
   "metadata": {},
   "source": [
    "## Basis Encoding with Adjoin and Adam optimization"
   ]
  },
  {
   "cell_type": "markdown",
   "id": "586cfb3f",
   "metadata": {},
   "source": [
    "### Layer - 1"
   ]
  },
  {
   "cell_type": "code",
   "execution_count": null,
   "id": "419b71b5",
   "metadata": {},
   "outputs": [],
   "source": [
    "n_qubits = 9\n",
    "n_layers = 1\n",
    "dev = qml.device(\"default.qubit\", wires=n_qubits)\n",
    "\n",
    "@qml.qnode(dev, diff_method=\"adjoint\")\n",
    "def qnode(inputs, weights):\n",
    "    \n",
    "    #print('inputs:', inputs)\n",
    "    #print('weights:', weights)\n",
    "    for ii in range(n_qubits):\n",
    "        qml.RY(np.pi * inputs[ii], wires=ii)\n",
    "\n",
    "    for jj in range(n_layers):\n",
    "        #qml.RZ(weights[jj,2*ii,0], wires=0)\n",
    "        #qml.RY(weights[jj,2*ii,1], wires=0)\n",
    "        #qml.RZ(weights[jj,2*ii,2], wires=0)\n",
    "        for ii in range(n_qubits):\n",
    "            qml.RZ(weights[jj, 2*ii,0], wires=ii)\n",
    "            qml.RY(weights[jj, 2*ii,1], wires=ii)\n",
    "            qml.RZ(weights[jj, 2*ii,2], wires=ii)\n",
    "\n",
    "            #qml.RZ(weights[jj,2*ii+1,0], wires=ii+1)\n",
    "            #qml.RY(weights[jj,2*ii+1,1], wires=ii+1)\n",
    "            #qml.RZ(weights[jj,2*ii+1,2], wires=ii+1)\n",
    "\n",
    "            #qml.U3(*list(weights[jj,2*ii,:]), wires=0)\n",
    "            #qml.U3(*list(weights[jj,2*ii+1,:]), wires=ii+1)\n",
    "        for kk in range(n_qubits-1):\n",
    "            if(kk%2 == 0):\n",
    "                qml.CNOT(wires=[kk+1,kk])\n",
    "            \n",
    "    for ii in range(n_qubits):\n",
    "        qml.RZ(weights[jj,2*ii+1,0], wires=ii)\n",
    "        qml.RY(weights[jj,2*ii+1,1], wires=ii)\n",
    "        qml.RZ(weights[jj,2*ii+1,2], wires=ii)\n",
    "\n",
    "    return qml.expval(qml.PauliZ(0)@qml.PauliZ(1)@qml.PauliZ(2)@qml.PauliZ(3)@qml.PauliZ(4)@qml.PauliZ(5)@qml.PauliZ(6)@qml.PauliZ(7)@qml.PauliZ(8))\n",
    "\n",
    "weight_shapes = {\"weights\": (n_layers, 2*(n_qubits)+1, 3) }\n",
    "\n",
    "\n",
    "qlayer = qml.qnn.KerasLayer(qnode, weight_shapes, output_dim=1, name=\"quantumLayer\")\n",
    "inputs = tf.keras.Input(shape=(n_qubits,), name=\"inputs\")\n",
    "outputs = qlayer(inputs)\n",
    "model_ansatz = tf.keras.Model(inputs=inputs, outputs=outputs, name=\"QNN\")\n",
    "\n",
    "model_ansatz.predict(x_train_9[0,:])\n",
    "print(model_ansatz.summary())"
   ]
  },
  {
   "cell_type": "code",
   "execution_count": null,
   "id": "0b8a8f7b",
   "metadata": {},
   "outputs": [],
   "source": [
    "# Assigning random weight to visualize the circuit\n",
    "\n",
    "weights = np.array(\n",
    "[[[-1.97528251e-01, -2.90917986e-01,  4.31702285e-01],\n",
    "  [ 3.68390797e-01,  3.58216676e-01,  3.16676838e-01],\n",
    "  [-3.26563673e-01,  1.73288683e-01,  3.72691217e-01],\n",
    "  [ 2.98967097e-01,  1.81081164e-01, -4.22713839e-01],\n",
    "  [-1.26261285e-02, -5.01598451e-01,  3.85237322e-02],\n",
    "  [-2.14257384e-01, -7.72885138e-02,  3.86160415e-01],\n",
    "  [-1.15142197e-01,  2.09132015e-01, -1.13619990e-01],\n",
    "  [-4.48743682e-01, -1.58241141e-01,  2.59955642e-01],\n",
    "  [ 3.56385748e-01, -4.82744807e-01,  2.79063232e-01],\n",
    "  [-1.93409416e-01,  4.36492955e-01,  2.05616640e-01],\n",
    "  [ 2.62269357e-01, -2.07848602e-01, -2.65048983e-01],\n",
    "  [ 4.22407367e-01,  4.64575593e-04,  3.10098349e-01],\n",
    "  [ 1.17151506e-01,  3.45164850e-01, -5.23165612e-01],\n",
    "  [-3.53538048e-01,  4.76818496e-01, -3.94650586e-01],\n",
    "  [ 1.96646715e-01,  3.05178758e-01,  3.76644920e-01],\n",
    "  [-4.66803263e-01,  3.26115091e-01, -2.33166846e-01],\n",
    "  [ 1.64767668e-01, -2.44926121e-01, -3.05480053e-01],\n",
    "  [ 0.4716368,      -0.32745629,     -0.30282775],\n",
    "  [ 0.40533588,      0.12210432,      0.39164872]]])\n",
    "\n",
    "drawer = qml.draw(qnode, show_all_wires=True)\n",
    "print(drawer(x_train_9[0,:], weights))"
   ]
  },
  {
   "cell_type": "code",
   "execution_count": null,
   "id": "f42ca4e6",
   "metadata": {},
   "outputs": [],
   "source": [
    "model_ansatz.compile(\n",
    "    loss=tf.keras.losses.Hinge(),\n",
    "    optimizer=tf.keras.optimizers.Adam(learning_rate = 0.001),\n",
    "    metrics=[hinge_accuracy])"
   ]
  },
  {
   "cell_type": "code",
   "execution_count": null,
   "id": "66aef8cb",
   "metadata": {},
   "outputs": [],
   "source": [
    "EPOCHS = 20\n",
    "BATCH_SIZE = 32\n",
    "\n",
    "NUM_EXAMPLES = 512 #x_train_small.shape[0]\n",
    "print(NUM_EXAMPLES)\n",
    "\n",
    "x_train_sub = x_train_9[:NUM_EXAMPLES,:]\n",
    "y_train_hinge_sub = y_train_hinge[:NUM_EXAMPLES]\n",
    "\n",
    "x_test_sub = x_test_9[:,:]\n",
    "y_test_sub = y_test[:]\n",
    "\n",
    "csv_logger = CSVLogger('ansatz layer 1.log')\n",
    "\n",
    "qnn_ansatz_history = model_ansatz.fit(\n",
    "      x_train_sub, y_train_hinge_sub, callbacks=[csv_logger],\n",
    "      batch_size=BATCH_SIZE,\n",
    "      epochs=EPOCHS,\n",
    "      verbose=1,\n",
    "      validation_data=(x_test_sub, y_test_sub))\n",
    "\n",
    "qnn_ansatz_history = model_ansatz.evaluate(x_test_sub, y_test_sub)"
   ]
  },
  {
   "cell_type": "code",
   "execution_count": null,
   "id": "4b0ed689",
   "metadata": {},
   "outputs": [],
   "source": [
    "model_ansatz.save('ansatz layer 1.h5')"
   ]
  },
  {
   "cell_type": "markdown",
   "id": "a4419acb",
   "metadata": {},
   "source": [
    "### 2 - Layer"
   ]
  },
  {
   "cell_type": "code",
   "execution_count": null,
   "id": "b5f9e68d",
   "metadata": {},
   "outputs": [],
   "source": [
    "n_qubits = 9\n",
    "n_layers = 2\n",
    "dev = qml.device(\"default.qubit\", wires=n_qubits)\n",
    "\n",
    "@qml.qnode(dev, diff_method=\"adjoint\")\n",
    "def qnode(inputs, weights):\n",
    "    \n",
    "    #print('inputs:', inputs)\n",
    "    #print('weights:', weights)\n",
    "    for ii in range(n_qubits):\n",
    "        qml.RY(np.pi * inputs[ii], wires=ii)\n",
    "\n",
    "    for jj in range(n_layers):\n",
    "        #qml.RZ(weights[jj,2*ii,0], wires=0)\n",
    "        #qml.RY(weights[jj,2*ii,1], wires=0)\n",
    "        #qml.RZ(weights[jj,2*ii,2], wires=0)\n",
    "        for ii in range(n_qubits):\n",
    "            qml.RZ(weights[jj, 2*ii,0], wires=ii)\n",
    "            qml.RY(weights[jj, 2*ii,1], wires=ii)\n",
    "            qml.RZ(weights[jj, 2*ii,2], wires=ii)\n",
    "\n",
    "            #qml.RZ(weights[jj,2*ii+1,0], wires=ii+1)\n",
    "            #qml.RY(weights[jj,2*ii+1,1], wires=ii+1)\n",
    "            #qml.RZ(weights[jj,2*ii+1,2], wires=ii+1)\n",
    "\n",
    "            #qml.U3(*list(weights[jj,2*ii,:]), wires=0)\n",
    "            #qml.U3(*list(weights[jj,2*ii+1,:]), wires=ii+1)\n",
    "        for kk in range(n_qubits-1):\n",
    "            if(kk%2 == 0):\n",
    "                qml.CNOT(wires=[kk+1,kk])\n",
    "            \n",
    "    for ii in range(n_qubits):\n",
    "        qml.RZ(weights[jj,2*ii+1,0], wires=ii)\n",
    "        qml.RY(weights[jj,2*ii+1,1], wires=ii)\n",
    "        qml.RZ(weights[jj,2*ii+1,2], wires=ii)\n",
    "\n",
    "    return qml.expval(qml.PauliZ(0)@qml.PauliZ(1)@qml.PauliZ(2)@qml.PauliZ(3)@qml.PauliZ(4)@qml.PauliZ(5)@qml.PauliZ(6)@qml.PauliZ(7)@qml.PauliZ(8))\n",
    "\n",
    "weight_shapes = {\"weights\": (n_layers, 2*(n_qubits)+1, 3) }\n",
    "\n",
    "\n",
    "qlayer = qml.qnn.KerasLayer(qnode, weight_shapes, output_dim=1, name=\"quantumLayer\")\n",
    "inputs = tf.keras.Input(shape=(n_qubits,), name=\"inputs\")\n",
    "outputs = qlayer(inputs)\n",
    "model2_ansatz = tf.keras.Model(inputs=inputs, outputs=outputs, name=\"QNN\")\n",
    "\n",
    "model2_ansatz.predict(x_train_9[0,:])\n",
    "print(model2_ansatz.summary())"
   ]
  },
  {
   "cell_type": "code",
   "execution_count": null,
   "id": "886bff8d",
   "metadata": {},
   "outputs": [],
   "source": [
    "model2_ansatz.compile(\n",
    "    loss=tf.keras.losses.Hinge(),\n",
    "    optimizer=tf.keras.optimizers.Adam(),\n",
    "    metrics=[hinge_accuracy])"
   ]
  },
  {
   "cell_type": "code",
   "execution_count": null,
   "id": "5a372ea6",
   "metadata": {},
   "outputs": [],
   "source": [
    "EPOCHS = 20\n",
    "BATCH_SIZE = 32\n",
    "\n",
    "NUM_EXAMPLES = 512 #x_train_small.shape[0]\n",
    "print(NUM_EXAMPLES)\n",
    "\n",
    "x_train_sub = x_train_9[:NUM_EXAMPLES,:]\n",
    "y_train_hinge_sub = y_train_hinge[:NUM_EXAMPLES]\n",
    "\n",
    "x_test_sub = x_test_9[:,:]\n",
    "y_test_sub = y_test[:]\n",
    "\n",
    "csv_logger = CSVLogger('ansatz layer 2.log')\n",
    "\n",
    "qnn2_ansatz_history = model2_ansatz.fit(\n",
    "      x_train_sub, y_train_hinge_sub, callbacks=[csv_logger],\n",
    "      batch_size=BATCH_SIZE,\n",
    "      epochs=EPOCHS,\n",
    "      verbose=1,\n",
    "      validation_data=(x_test_sub, y_test_sub))\n",
    "\n",
    "qnn2_ansatz_history = model2_ansatz.evaluate(x_test_sub, y_test_sub)"
   ]
  },
  {
   "cell_type": "code",
   "execution_count": null,
   "id": "b1b40c8e",
   "metadata": {},
   "outputs": [],
   "source": [
    "model2_ansatz.save('ansatz layer 2.h5')"
   ]
  },
  {
   "cell_type": "markdown",
   "id": "9b445542",
   "metadata": {},
   "source": [
    "### 3 - Layer"
   ]
  },
  {
   "cell_type": "code",
   "execution_count": null,
   "id": "40eccb8b",
   "metadata": {},
   "outputs": [],
   "source": [
    "n_qubits = 9\n",
    "n_layers = 2\n",
    "dev = qml.device(\"default.qubit\", wires=n_qubits)\n",
    "\n",
    "@qml.qnode(dev, diff_method=\"adjoint\")\n",
    "def qnode(inputs, weights):\n",
    "    \n",
    "    #print('inputs:', inputs)\n",
    "    #print('weights:', weights)\n",
    "    for ii in range(n_qubits):\n",
    "        qml.RY(np.pi * inputs[ii], wires=ii)\n",
    "\n",
    "    for jj in range(n_layers):\n",
    "        #qml.RZ(weights[jj,2*ii,0], wires=0)\n",
    "        #qml.RY(weights[jj,2*ii,1], wires=0)\n",
    "        #qml.RZ(weights[jj,2*ii,2], wires=0)\n",
    "        for ii in range(n_qubits):\n",
    "            qml.RZ(weights[jj, 2*ii,0], wires=ii)\n",
    "            qml.RY(weights[jj, 2*ii,1], wires=ii)\n",
    "            qml.RZ(weights[jj, 2*ii,2], wires=ii)\n",
    "\n",
    "            #qml.RZ(weights[jj,2*ii+1,0], wires=ii+1)\n",
    "            #qml.RY(weights[jj,2*ii+1,1], wires=ii+1)\n",
    "            #qml.RZ(weights[jj,2*ii+1,2], wires=ii+1)\n",
    "\n",
    "            #qml.U3(*list(weights[jj,2*ii,:]), wires=0)\n",
    "            #qml.U3(*list(weights[jj,2*ii+1,:]), wires=ii+1)\n",
    "        for kk in range(n_qubits-1):\n",
    "            if(kk%2 == 0):\n",
    "                qml.CNOT(wires=[kk+1,kk])\n",
    "            \n",
    "    for ii in range(n_qubits):\n",
    "        qml.RZ(weights[jj,2*ii+1,0], wires=ii)\n",
    "        qml.RY(weights[jj,2*ii+1,1], wires=ii)\n",
    "        qml.RZ(weights[jj,2*ii+1,2], wires=ii)\n",
    "\n",
    "    return qml.expval(qml.PauliZ(0)@qml.PauliZ(1)@qml.PauliZ(2)@qml.PauliZ(3)@qml.PauliZ(4)@qml.PauliZ(5)@qml.PauliZ(6)@qml.PauliZ(7)@qml.PauliZ(8))\n",
    "\n",
    "weight_shapes = {\"weights\": (n_layers, 2*(n_qubits)+1, 3) }\n",
    "\n",
    "\n",
    "qlayer = qml.qnn.KerasLayer(qnode, weight_shapes, output_dim=1, name=\"quantumLayer\")\n",
    "inputs = tf.keras.Input(shape=(n_qubits,), name=\"inputs\")\n",
    "outputs = qlayer(inputs)\n",
    "model3_ansatz = tf.keras.Model(inputs=inputs, outputs=outputs, name=\"QNN\")\n",
    "\n",
    "model3_ansatz.predict(x_train_9[0,:])\n",
    "print(model3.summary())"
   ]
  },
  {
   "cell_type": "code",
   "execution_count": null,
   "id": "d8cabb10",
   "metadata": {},
   "outputs": [],
   "source": [
    "model3_ansatz.compile(\n",
    "    loss=tf.keras.losses.Hinge(),\n",
    "    optimizer=tf.keras.optimizers.Adam(),\n",
    "    metrics=[hinge_accuracy])"
   ]
  },
  {
   "cell_type": "code",
   "execution_count": null,
   "id": "153756c7",
   "metadata": {},
   "outputs": [],
   "source": [
    "EPOCHS = 20\n",
    "BATCH_SIZE = 32\n",
    "\n",
    "NUM_EXAMPLES = 512 #x_train_small.shape[0]\n",
    "print(NUM_EXAMPLES)\n",
    "\n",
    "x_train_sub = x_train_9[:NUM_EXAMPLES,:]\n",
    "y_train_hinge_sub = y_train_hinge[:NUM_EXAMPLES]\n",
    "\n",
    "x_test_sub = x_test_9[:,:]\n",
    "y_test_sub = y_test[:]\n",
    "\n",
    "csv_logger = CSVLogger('ansatz layer 3.log')\n",
    "\n",
    "qnn3_ansatz_history = model3_ansatz.fit(\n",
    "      x_train_sub, y_train_hinge_sub, callbacks=[csv_logger],\n",
    "      batch_size=BATCH_SIZE,\n",
    "      epochs=EPOCHS,\n",
    "      verbose=1,\n",
    "      validation_data=(x_test_sub, y_test_sub))\n",
    "\n",
    "qnn3_ansatz_history = model3_ansatz.evaluate(x_test_sub, y_test_sub)"
   ]
  },
  {
   "cell_type": "code",
   "execution_count": null,
   "id": "877f4c30",
   "metadata": {},
   "outputs": [],
   "source": [
    "model3_ansatz.save('ansatz layer 3.h5')"
   ]
  },
  {
   "cell_type": "markdown",
   "id": "27ff3b7d",
   "metadata": {},
   "source": [
    "### Plot"
   ]
  },
  {
   "cell_type": "code",
   "execution_count": null,
   "id": "fdd0f14f",
   "metadata": {},
   "outputs": [],
   "source": [
    "qnn_ansatz_history = pd.read_csv('ansatz layer 1.log')\n",
    "qnn2_ansatz_history = pd.read_csv('ansatz layer 2.log')\n",
    "qnn3_ansatz_history = pd.read_csv('ansatz layer 3.log')"
   ]
  },
  {
   "cell_type": "code",
   "execution_count": null,
   "id": "ddd49763",
   "metadata": {},
   "outputs": [],
   "source": [
    "plt.plot(np.arange(1,21), qnn_ansatz_history[\"hinge_accuracy\"], label=\"layer 1\")\n",
    "plt.plot(np.arange(1,21), qnn2_ansatz_history[\"hinge_accuracy\"], label=\"layer 2\")\n",
    "plt.plot(np.arange(1,21), qnn3_ansatz_history[\"hinge_accuracy\"], label=\"layer 3\")\n",
    "\n",
    "\n",
    "plt.xlabel(\"Epoch\")\n",
    "plt.ylabel(\"Hinge Accuracy\")\n",
    "plt.title(\"New ansatz Accuracy\")\n",
    "plt.legend()\n",
    "# modify x_ticks to also include 20\n",
    "plt.xticks(np.arange(0, 21, 2.5))\n",
    "# save as pdf with tight layout and no padding\n",
    "plt.savefig(\"new anstaz basis adj adam acc.pdf\", bbox_inches=\"tight\", pad_inches=0)\n",
    "plt.show()"
   ]
  },
  {
   "cell_type": "code",
   "execution_count": null,
   "id": "af9a2266",
   "metadata": {},
   "outputs": [],
   "source": [
    "plt.plot(np.arange(1,21), qnn_ansatz_history[\"loss\"], label=\"layer 1\")\n",
    "plt.plot(np.arange(1,21), qnn2_ansatz_history[\"loss\"], label=\"layer 2\")\n",
    "plt.plot(np.arange(1,21), qnn3_ansatz_history[\"loss\"], label=\"layer 3\")\n",
    "\n",
    "\n",
    "plt.xlabel(\"Epoch\")\n",
    "plt.ylabel(\"Hinge Loss\")\n",
    "plt.title(\"Loss\")\n",
    "plt.legend()\n",
    "# modify x_ticks to also include 20\n",
    "plt.xticks(np.arange(0, 21, 2.5))\n",
    "# save as pdf with tight layout and no padding\n",
    "plt.savefig(\"new anstaz basis adj adam loss.pdf\", bbox_inches=\"tight\", pad_inches=0)\n",
    "plt.show()"
   ]
  },
  {
   "cell_type": "markdown",
   "id": "502d20f0",
   "metadata": {},
   "source": [
    "# CNN-QNN Hybrid Ansatz"
   ]
  },
  {
   "cell_type": "markdown",
   "id": "a8194e6d",
   "metadata": {},
   "source": [
    "## Amplitude Encoding with Adjoint and Adam optimisation"
   ]
  },
  {
   "cell_type": "markdown",
   "id": "124f6eca",
   "metadata": {},
   "source": [
    "### 1 - Layer"
   ]
  },
  {
   "cell_type": "code",
   "execution_count": null,
   "id": "43fa000b",
   "metadata": {},
   "outputs": [],
   "source": [
    "n_qubits = 10\n",
    "n_layers = 1\n",
    "dev = qml.device(\"default.qubit\", wires=n_qubits)\n",
    "\n",
    "@qml.qnode(dev, diff_method=\"adjoint\")\n",
    "def qnode(inputs, weights):\n",
    "\n",
    "    #print(len(inputs))\n",
    "    qml.AmplitudeEmbedding(inputs, wires=range(10), pad_with=0.0, normalize=True)\n",
    "\n",
    "    for jj in range(n_layers):\n",
    "        for ii in range(n_qubits-1):\n",
    "            qml.RZ(weights[jj,2*ii,0], wires=0)\n",
    "            qml.RY(weights[jj,2*ii,1], wires=0)\n",
    "            qml.RZ(weights[jj,2*ii,2], wires=0)\n",
    "\n",
    "            qml.RZ(weights[jj,2*ii+1,0], wires=ii+1)\n",
    "            qml.RY(weights[jj,2*ii+1,1], wires=ii+1)\n",
    "            qml.RZ(weights[jj,2*ii+1,2], wires=ii+1)\n",
    "\n",
    "            #qml.U3(*list(weights[jj,2*ii,:]), wires=0)\n",
    "            #qml.U3(*list(weights[jj,2*ii+1,:]), wires=ii+1)\n",
    "            qml.CNOT(wires=[ii+1,0])\n",
    "            \n",
    "        qml.RZ(weights[jj,2*(n_qubits-1),0], wires=0)\n",
    "        qml.RY(weights[jj,2*(n_qubits-1),1], wires=0)\n",
    "        qml.RZ(weights[jj,2*(n_qubits-1),2], wires=0)\n",
    "\n",
    "    return qml.expval(qml.PauliZ(0))\n",
    "\n",
    "weight_shapes = {\"weights\": (n_layers, 2*(n_qubits-1)+1, 3) }\n",
    "\n",
    "\n",
    "qlayer = qml.qnn.KerasLayer(qnode, weight_shapes, output_dim= n_qubits, name=\"quantumLayer\")\n",
    "\n",
    "clayer_1 = tf.keras.layers.Dense(4)\n",
    "clayer_2 = tf.keras.layers.Dense(1, activation=\"softmax\")\n",
    "\n",
    "inputs = tf.keras.Input(shape=(784,), name=\"inputs\")\n",
    "\n",
    "x = clayer_1(inputs)\n",
    "x = qlayer(x)\n",
    "outputs = clayer_2(x)\n",
    "\n",
    "#print(inputs)\n",
    "outputs = qlayer(inputs)\n",
    "model_hybrid = tf.keras.Model(inputs=inputs, outputs=outputs, name=\"QNN\")\n",
    "\n",
    "model_hybrid.predict(x_train_28[0,:].reshape(1, -1))\n",
    "print(model_hybrid.summary())"
   ]
  },
  {
   "cell_type": "markdown",
   "id": "90d39e60",
   "metadata": {},
   "source": [
    "model_hybrid.compile(\n",
    "    loss=tf.keras.losses.Hinge(),\n",
    "    optimizer=tf.keras.optimizers.Adam(),\n",
    "    metrics=[hinge_accuracy])"
   ]
  },
  {
   "cell_type": "code",
   "execution_count": null,
   "id": "933f0040",
   "metadata": {},
   "outputs": [],
   "source": [
    "EPOCHS = 20\n",
    "BATCH_SIZE = 32\n",
    "\n",
    "NUM_EXAMPLES = 512 #x_train_small.shape[0]\n",
    "\n",
    "x_train_sub = x_train_28[:NUM_EXAMPLES,:]\n",
    "y_train_hinge_sub = y_train_hinge[:NUM_EXAMPLES]\n",
    "\n",
    "x_test_sub = x_test_28[:,:]\n",
    "y_test_sub = y_test[:]\n",
    "\n",
    "csv_logger = CSVLogger('qnn_history_anstaz_1layer.log')\n",
    "\n",
    "qnn_history_hybrid_1layer = model_amp.fit(\n",
    "      x_train_sub, y_train_hinge_sub,callbacks=[csv_logger],\n",
    "      batch_size=BATCH_SIZE,\n",
    "      epochs=EPOCHS,\n",
    "      verbose=1)\n",
    "      #validation_data=(x_test_sub, y_test_sub))\n",
    "\n",
    "qnn_results_hybrid_1layer = model_hybrid.evaluate(x_test_sub, y_test_sub)"
   ]
  },
  {
   "cell_type": "code",
   "execution_count": null,
   "id": "bdde99d1",
   "metadata": {},
   "outputs": [],
   "source": [
    "model_hybrid.save('hybrid-anstaz-1Layer.h5')"
   ]
  },
  {
   "cell_type": "markdown",
   "id": "70cb6cb4",
   "metadata": {},
   "source": [
    "### 2 - Layer"
   ]
  },
  {
   "cell_type": "code",
   "execution_count": null,
   "id": "b4a6d673",
   "metadata": {},
   "outputs": [],
   "source": [
    "n_qubits = 10\n",
    "n_layers = 2\n",
    "dev = qml.device(\"default.qubit\", wires=n_qubits)\n",
    "\n",
    "@qml.qnode(dev, diff_method=\"adjoint\")\n",
    "def qnode(inputs, weights):\n",
    "\n",
    "    qml.AmplitudeEmbedding(inputs, wires=range(10), pad_with=0.0, normalize=True)\n",
    "\n",
    "    for jj in range(n_layers):\n",
    "        for ii in range(n_qubits-1):\n",
    "            qml.RZ(weights[jj,2*ii,0], wires=0)\n",
    "            qml.RY(weights[jj,2*ii,1], wires=0)\n",
    "            qml.RZ(weights[jj,2*ii,2], wires=0)\n",
    "\n",
    "            qml.RZ(weights[jj,2*ii+1,0], wires=ii+1)\n",
    "            qml.RY(weights[jj,2*ii+1,1], wires=ii+1)\n",
    "            qml.RZ(weights[jj,2*ii+1,2], wires=ii+1)\n",
    "\n",
    "            #qml.U3(*list(weights[jj,2*ii,:]), wires=0)\n",
    "            #qml.U3(*list(weights[jj,2*ii+1,:]), wires=ii+1)\n",
    "            qml.CNOT(wires=[ii+1,0])\n",
    "            \n",
    "        qml.RZ(weights[jj,2*(n_qubits-1),0], wires=0)\n",
    "        qml.RY(weights[jj,2*(n_qubits-1),1], wires=0)\n",
    "        qml.RZ(weights[jj,2*(n_qubits-1),2], wires=0)\n",
    "\n",
    "    return qml.expval(qml.PauliZ(0))\n",
    "\n",
    "weight_shapes = {\"weights\": (n_layers, 2*(n_qubits-1)+1, 3) }\n",
    "\n",
    "\n",
    "qlayer = qml.qnn.KerasLayer(qnode, weight_shapes, output_dim= n_qubits, name=\"quantumLayer\")\n",
    "\n",
    "clayer_1 = tf.keras.layers.Dense(4)\n",
    "clayer_2 = tf.keras.layers.Dense(1, activation=\"softmax\")\n",
    "\n",
    "inputs = tf.keras.Input(shape=(784,), name=\"inputs\")\n",
    "\n",
    "x = clayer_1(inputs)\n",
    "x = qlayer(x)\n",
    "outputs = clayer_2(x)\n",
    "\n",
    "#print(inputs)\n",
    "outputs = qlayer(inputs)\n",
    "model2_hybrid = tf.keras.Model(inputs=inputs, outputs=outputs, name=\"QNN\")\n",
    "\n",
    "model2_hybrid.save('hybrid-anstaz-2Layer.h5').predict(x_train_28[0,:].reshape(1, -1))\n",
    "print(model2_hybrid.summary())"
   ]
  },
  {
   "cell_type": "code",
   "execution_count": null,
   "id": "acaa27ec",
   "metadata": {},
   "outputs": [],
   "source": [
    "model2_hybrid.save('hybrid-anstaz-2Layer.h5').compile(\n",
    "    loss=tf.keras.losses.Hinge(),\n",
    "    optimizer=tf.keras.optimizers.Adam(),\n",
    "    metrics=[hinge_accuracy])"
   ]
  },
  {
   "cell_type": "code",
   "execution_count": null,
   "id": "859ea1a7",
   "metadata": {},
   "outputs": [],
   "source": [
    "EPOCHS = 20\n",
    "BATCH_SIZE = 32\n",
    "\n",
    "NUM_EXAMPLES = 512 #x_train_small.shape[0]\n",
    "print(NUM_EXAMPLES)\n",
    "\n",
    "x_train_sub = x_train_28[:NUM_EXAMPLES,:]\n",
    "y_train_hinge_sub = y_train_hinge[:NUM_EXAMPLES]\n",
    "\n",
    "x_test_sub = x_test_28[:,:]\n",
    "y_test_sub = y_test[:]\n",
    "\n",
    "csv_logger = CSVLogger('qnn_history_anstaz_2layer.log')\n",
    "\n",
    "qnn_history_hybrid_2layer = model2_hybrid.fit(\n",
    "      x_train_sub, y_train_hinge_sub, callbacks=[csv_logger],\n",
    "      batch_size=BATCH_SIZE,\n",
    "      epochs=EPOCHS,\n",
    "      verbose=1)#,\n",
    "      #validation_data=(x_test_sub, y_test_sub))\n",
    "\n",
    "qnn_results_hybrid_2layer = model2_hybrid.evaluate(x_test_sub, y_test_sub)"
   ]
  },
  {
   "cell_type": "code",
   "execution_count": null,
   "id": "eacf5658",
   "metadata": {},
   "outputs": [],
   "source": [
    "model2_hybrid.save('hybrid-anstaz-2Layer.h5')"
   ]
  },
  {
   "cell_type": "markdown",
   "id": "bfa7e52e",
   "metadata": {},
   "source": [
    "### 3 - Layer"
   ]
  },
  {
   "cell_type": "code",
   "execution_count": null,
   "id": "fe8e4cab",
   "metadata": {},
   "outputs": [],
   "source": [
    "n_qubits = 10\n",
    "n_layers = 3\n",
    "dev = qml.device(\"default.qubit\", wires=n_qubits)\n",
    "\n",
    "@qml.qnode(dev, diff_method=\"adjoint\")\n",
    "def qnode(inputs, weights):\n",
    "\n",
    "    qml.AmplitudeEmbedding(inputs, wires=range(10), pad_with=0.0, normalize=True)\n",
    "\n",
    "    for jj in range(n_layers):\n",
    "        for ii in range(n_qubits-1):\n",
    "            qml.RZ(weights[jj,2*ii,0], wires=0)\n",
    "            qml.RY(weights[jj,2*ii,1], wires=0)\n",
    "            qml.RZ(weights[jj,2*ii,2], wires=0)\n",
    "\n",
    "            qml.RZ(weights[jj,2*ii+1,0], wires=ii+1)\n",
    "            qml.RY(weights[jj,2*ii+1,1], wires=ii+1)\n",
    "            qml.RZ(weights[jj,2*ii+1,2], wires=ii+1)\n",
    "\n",
    "            #qml.U3(*list(weights[jj,2*ii,:]), wires=0)\n",
    "            #qml.U3(*list(weights[jj,2*ii+1,:]), wires=ii+1)\n",
    "            qml.CNOT(wires=[ii+1,0])\n",
    "            \n",
    "        qml.RZ(weights[jj,2*(n_qubits-1),0], wires=0)\n",
    "        qml.RY(weights[jj,2*(n_qubits-1),1], wires=0)\n",
    "        qml.RZ(weights[jj,2*(n_qubits-1),2], wires=0)\n",
    "\n",
    "    return qml.expval(qml.PauliZ(0))\n",
    "\n",
    "weight_shapes = {\"weights\": (n_layers, 2*(n_qubits-1)+1, 3) }\n",
    "\n",
    "\n",
    "qlayer = qml.qnn.KerasLayer(qnode, weight_shapes, output_dim= n_qubits, name=\"quantumLayer\")\n",
    "\n",
    "clayer_1 = tf.keras.layers.Dense(4)\n",
    "clayer_2 = tf.keras.layers.Dense(1, activation=\"softmax\")\n",
    "\n",
    "inputs = tf.keras.Input(shape=(784,), name=\"inputs\")\n",
    "\n",
    "x = clayer_1(inputs)\n",
    "x = qlayer(x)\n",
    "outputs = clayer_2(x)\n",
    "\n",
    "#print(inputs)\n",
    "outputs = qlayer(inputs)\n",
    "model3_hybrid = tf.keras.Model(inputs=inputs, outputs=outputs, name=\"QNN\")\n",
    "\n",
    "model3_hybrid.predict(x_train_28[0,:].reshape(1, -1))\n",
    "print(model3_hybrid.summary())"
   ]
  },
  {
   "cell_type": "code",
   "execution_count": null,
   "id": "1894ea34",
   "metadata": {},
   "outputs": [],
   "source": [
    "model3_hybrid.compile(\n",
    "    loss=tf.keras.losses.Hinge(),\n",
    "    optimizer=tf.keras.optimizers.Adam(),\n",
    "    metrics=[hinge_accuracy])"
   ]
  },
  {
   "cell_type": "code",
   "execution_count": null,
   "id": "ffa2bdeb",
   "metadata": {},
   "outputs": [],
   "source": [
    "EPOCHS = 20\n",
    "BATCH_SIZE = 32\n",
    "\n",
    "NUM_EXAMPLES = 512 #x_train_small.shape[0]\n",
    "print(NUM_EXAMPLES)\n",
    "\n",
    "x_train_sub = x_train_28[:NUM_EXAMPLES,:]\n",
    "y_train_hinge_sub = y_train_hinge[:NUM_EXAMPLES]\n",
    "\n",
    "x_test_sub = x_test_28[:,:]\n",
    "y_test_sub = y_test[:]\n",
    "\n",
    "csv_logger = CSVLogger('qnn_history_anstaz_3layer.log')\n",
    "\n",
    "qnn_history_hybrid_3layer = model3_hybrid.fit(\n",
    "      x_train_sub, y_train_hinge_sub, callbacks=[csv_logger],\n",
    "      batch_size=BATCH_SIZE,\n",
    "      epochs=EPOCHS,\n",
    "      verbose=1)#,\n",
    "      #validation_data=(x_test_sub, y_test_sub))\n",
    "\n",
    "qnn_results_hybrid_3layer = model3_hybrid.evaluate(x_test_sub, y_test_sub)"
   ]
  },
  {
   "cell_type": "code",
   "execution_count": null,
   "id": "c9b6825b",
   "metadata": {},
   "outputs": [],
   "source": [
    "model3_amp.save('anstaz-3Layer.h5')"
   ]
  },
  {
   "cell_type": "markdown",
   "id": "26858621",
   "metadata": {},
   "source": [
    "### Plot"
   ]
  },
  {
   "cell_type": "code",
   "execution_count": 33,
   "id": "45f89c26",
   "metadata": {},
   "outputs": [],
   "source": [
    "qnn_history_hybrid_1layer = pd.read_csv('qnn_history_anstaz_1layer.log')\n",
    "qnn_history_hybrid_2layer = pd.read_csv('qnn_history_anstaz_2layer.log')\n",
    "qnn_history_hybrid_3layer = pd.read_csv('qnn_history_anstaz_3layer.log')"
   ]
  },
  {
   "cell_type": "code",
   "execution_count": 35,
   "id": "b245a7b3",
   "metadata": {},
   "outputs": [
    {
     "data": {
      "image/png": "[encoded data removed]",
      "text/plain": [
       "<Figure size 640x480 with 1 Axes>"
      ]
     },
     "metadata": {},
     "output_type": "display_data"
    }
   ],
   "source": [
    "plt.plot(np.arange(1,21), qnn_history_hybrid_1layer[\"hinge_accuracy\"], label=\"1 layer\")\n",
    "plt.plot(np.arange(1,21), qnn_history_hybrid_2layer[\"hinge_accuracy\"], label=\"2 layer\")\n",
    "plt.plot(np.arange(1,21), qnn_history_hybrid_3layer[\"hinge_accuracy\"], label=\"3 layer\")\n",
    "\n",
    "plt.xlabel(\"Epoch\")\n",
    "plt.ylabel(\"Hinge Accuracy\")\n",
    "plt.title(\"Accuracy\")\n",
    "plt.legend()\n",
    "# modify x_ticks to also include 20\n",
    "plt.xticks(np.arange(0, 21, 2.5))\n",
    "# save as pdf with tight layout and no padding\n",
    "plt.savefig(\"new anstaz-accuracy.pdf\", bbox_inches=\"tight\", pad_inches=0)\n",
    "plt.show()"
   ]
  },
  {
   "cell_type": "code",
   "execution_count": 36,
   "id": "277ca01b",
   "metadata": {},
   "outputs": [
    {
     "data": {
      "image/png": "[encoded data removed]",
      "text/plain": [
       "<Figure size 640x480 with 1 Axes>"
      ]
     },
     "metadata": {},
     "output_type": "display_data"
    }
   ],
   "source": [
    "plt.plot(np.arange(1,21), qnn_history_hybrid_1layer[\"loss\"], label=\"Basis\")\n",
    "plt.plot(np.arange(1,21), qnn_history_hybrid_2layer[\"loss\"], label=\"Amplitude\")\n",
    "plt.plot(np.arange(1,21), qnn_history_hybrid_3layer[\"loss\"], label=\"FRQI\")\n",
    "\n",
    "plt.xlabel(\"Epoch\")\n",
    "plt.ylabel(\"Loss\")\n",
    "plt.title(\"Loss\")\n",
    "plt.legend()\n",
    "# modify x_ticks to also include 20\n",
    "plt.xticks(np.arange(0, 21, 2.5))\n",
    "# save as pdf with tight layout and no padding\n",
    "plt.savefig(\"new anstaz-loss.pdf\", bbox_inches=\"tight\", pad_inches=0)\n",
    "plt.show()"
   ]
  }
 ],
 "metadata": {
  "kernelspec": {
   "display_name": "Python 3 (ipykernel)",
   "language": "python",
   "name": "python3"
  },
  "language_info": {
   "codemirror_mode": {
    "name": "ipython",
    "version": 3
   },
   "file_extension": ".py",
   "mimetype": "text/x-python",
   "name": "python",
   "nbconvert_exporter": "python",
   "pygments_lexer": "ipython3",
   "version": "3.9.16"
  }
 },
 "nbformat": 4,
 "nbformat_minor": 5
}
